{
 "cells": [
  {
   "cell_type": "code",
   "execution_count": null,
   "metadata": {},
   "outputs": [],
   "source": [
    "\n",
    "from flask import Flask, render_template\n",
    "app = Flask(__name__) # 앱 변수 main 이름을 flask 로 인식하겠다\n",
    "\n",
    "@app.route('/')\n",
    "def index(): \n",
    "    return '안녕하세요!!!'\n",
    "\n",
    "# @app.route('/html')\n",
    "# def html():\n",
    "#     return render_template('index.html')\n",
    "# chicken.html 페이지를 띄워주세요.\n",
    "# templates 폴더 안 파일\n",
    "\n",
    "@app.route('/html_name/<string:name>')\n",
    "def html_name(name):\n",
    "    return render_template('index.html', your_name = name)\n",
    "\n",
    "# if __name__ == '__main__':\n",
    "#     app.run(host='127.0.0.1', port=5000, debug=True)\n",
    "\n",
    "@app.route(\"/dictionary/<string:word>\")\n",
    "def dictionary(word):\n",
    "    word_dict = {\"apple\": \"사과\", \"banana\": \"바나나\"}\n",
    "    return render_template('word.html', word = word, word_dict = word_dict)"
   ]
  },
  {
   "cell_type": "code",
   "execution_count": null,
   "metadata": {},
   "outputs": [],
   "source": [
    "{% if word in word_dict %} \n",
    "<h1> {{ word }} 는 {{ word_dict[word] }}입니다.</h1>\n",
    "\n",
    "{% else %}\n",
    "<h3> {{ word }} 는 없는 단어입니다.</h3>\n",
    "{% endif %}"
   ]
  },
  {
   "cell_type": "code",
   "execution_count": null,
   "metadata": {},
   "outputs": [],
   "source": [
    "<img src=\"https://cdn-image.foodandwine.com/sites/default/files/styles/medium_2x/public/200912-xl-moroccan-chicken.jpg?itok=lWbkkJz2\"/>\n",
    "<h1> {{ your_name }} </h1>\n"
   ]
  }
 ],
 "metadata": {
  "kernelspec": {
   "display_name": "Python 3",
   "language": "python",
   "name": "python3"
  },
  "language_info": {
   "codemirror_mode": {
    "name": "ipython",
    "version": 3
   },
   "file_extension": ".py",
   "mimetype": "text/x-python",
   "name": "python",
   "nbconvert_exporter": "python",
   "pygments_lexer": "ipython3",
   "version": "3.6.7"
  }
 },
 "nbformat": 4,
 "nbformat_minor": 2
}
