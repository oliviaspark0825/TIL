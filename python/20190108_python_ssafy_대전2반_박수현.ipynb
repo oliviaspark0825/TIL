{
 "cells": [
  {
   "cell_type": "code",
   "execution_count": 27,
   "metadata": {},
   "outputs": [
    {
     "name": "stdout",
     "output_type": "stream",
     "text": [
      "True\n"
     ]
    }
   ],
   "source": [
    "def palindrome(word):\n",
    "    \n",
    "    for i in range (len(word)):\n",
    "        if word[i] != word[-(i+1)]:\n",
    "            return False\n",
    "    return True\n",
    "\n",
    "\n",
    "print(isPalindrome('saippuaikiauppias'))\n",
    "\n",
    "\n",
    "\n",
    "                \n",
    "#     alila\n",
    "#     01234  0 = 4, 1=3\n",
    "#     appa\n",
    "#     0123     0=3, 1=2 \n"
   ]
  },
  {
   "cell_type": "code",
   "execution_count": 12,
   "metadata": {},
   "outputs": [],
   "source": [
    "#1\n",
    "word = 'saippuakiviauppias'\n",
    "def isPalindrome(word):\n",
    "    left_word = 0\n",
    "    right_word = len(word) - 1\n",
    "    \n",
    "    while right_word >= left_word:  # 가운데로 오고 있으니까 left는 길어지고 right는 줄어듦\n",
    "        if word[left_word] != word[right_word]:\n",
    "            return False\n",
    "        left_word += 1\n",
    "        right_word -=1\n",
    "    return True\n"
   ]
  },
  {
   "cell_type": "code",
   "execution_count": 23,
   "metadata": {},
   "outputs": [
    {
     "name": "stdout",
     "output_type": "stream",
     "text": [
      "False\n",
      "True\n"
     ]
    }
   ],
   "source": [
    "# 2\n",
    "def isPalindrome(word):\n",
    "    list_word = list(word)\n",
    "    for i in range(len(list_word) //2 ):  # 5를 2로 나눈 몫 = 2 그럼 2까지만 돌겠지? 홀수는 가운데는 확인 안해도 되니까\n",
    "        if list_word[i] != list_word[-i-1]: \n",
    "            return False\n",
    "    return True\n",
    "\n",
    "print(isPalindrome('tomato'))\n",
    "print(isPalindrome('saippuaikiauppias'))"
   ]
  },
  {
   "cell_type": "code",
   "execution_count": 18,
   "metadata": {},
   "outputs": [],
   "source": [
    "def isPalindrome(word):\n",
    "    return list(word) == list(reversed(word))"
   ]
  },
  {
   "cell_type": "code",
   "execution_count": 19,
   "metadata": {},
   "outputs": [],
   "source": [
    "# extend slicing\n",
    "def isPalindrome(word):\n",
    "    return list(word) == list(word[::-1])"
   ]
  },
  {
   "cell_type": "code",
   "execution_count": null,
   "metadata": {},
   "outputs": [],
   "source": [
    "# #[시작: 끝: 간격]\n",
    "# test_slice"
   ]
  },
  {
   "cell_type": "code",
   "execution_count": 24,
   "metadata": {},
   "outputs": [],
   "source": [
    "# list('level')"
   ]
  }
 ],
 "metadata": {
  "kernelspec": {
   "display_name": "Python 3",
   "language": "python",
   "name": "python3"
  },
  "language_info": {
   "codemirror_mode": {
    "name": "ipython",
    "version": 3
   },
   "file_extension": ".py",
   "mimetype": "text/x-python",
   "name": "python",
   "nbconvert_exporter": "python",
   "pygments_lexer": "ipython3",
   "version": "3.6.7"
  }
 },
 "nbformat": 4,
 "nbformat_minor": 2
}
