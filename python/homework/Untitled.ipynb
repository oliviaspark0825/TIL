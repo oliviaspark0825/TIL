{
 "cells": [
  {
   "cell_type": "code",
   "execution_count": null,
   "metadata": {},
   "outputs": [],
   "source": [
    "시퀀스 자료형의 특징이 아닌것?\n",
    "1. 리스트 튜플 레인지 ..같은 자료형 타입이 있다\n",
    "2. 데이터 순서대로 나열되어 있는 자료형이다\n",
    "3. in\n",
    "4. 기본적으로 정렬이 되어 있는데 순서바꿈 x\n",
    "\n",
    "result \n",
    "\n",
    "pyhon - hon\n",
    "\n",
    "def func(c=5, *args):\n",
    "    a,c,b = args\n",
    "    return a + b+ c\n",
    "print(func ('3', '4', '1', '2')\n",
    "      421\n",
    "      \n",
    "      \n",
    "\n",
    "    "
   ]
  },
  {
   "cell_type": "code",
   "execution_count": null,
   "metadata": {},
   "outputs": [],
   "source": [
    "1. d1 == d2  false\n",
    "2. len(d1)은, len(d2) 는 0이다. \n",
    "3. id(d1) == id(d2)true\n",
    "4. d1의 value와 d2의 value는 모두 비어있는 딕셔너리다 <0>\n",
    "\n",
    "d1 = {'d': dict()}\n",
    "d2 = dict(d={})"
   ]
  },
  {
   "cell_type": "code",
   "execution_count": null,
   "metadata": {},
   "outputs": [],
   "source": [
    "d = {'a': 1, 'b': 2}\n",
    "a1 = d.update(c=3)  -- 딕셔너리 값이 바뀐 것일뿐\n",
    "a2=a1\n",
    "NONE\n",
    "1. len(a1)dms 2다.\n",
    "a1과 a2는 \n",
    "\n",
    "4. 보기에 답이 없다"
   ]
  },
  {
   "cell_type": "code",
   "execution_count": null,
   "metadata": {},
   "outputs": [],
   "source": [
    "get 은 키가 없으면 none을 출력\n",
    "c 는 true 를 출력 "
   ]
  },
  {
   "cell_type": "code",
   "execution_count": null,
   "metadata": {},
   "outputs": [],
   "source": [
    "def func(a, b=1, c=2, *args, **kwargs):\n",
    "    d = sum{n*2 for in args if n>2])\n",
    "    e = sum([v*v for k, v in kargs.items()])\n",
    "    return a+ b+ c+ d+ e\n",
    "            \n",
    "print(func(9, 4, 2, 3, 1, 7, d=3, e = 6))\n",
    "            a=9 b=4 c=2 15\n",
    "            args (3,1,7)  - 6+ 14 20\n",
    "            kwargs d=2, e=6 - 45"
   ]
  },
  {
   "cell_type": "code",
   "execution_count": null,
   "metadata": {},
   "outputs": [],
   "source": [
    "fib(0) fib(1)\n",
    "2/3\n",
    "fib (4)\n",
    "fib(3) + fib(2)\n",
    "fib(2) 1 1 0\n",
    "10110\n",
    "\n",
    "def - return 이 없으면 none"
   ]
  },
  {
   "cell_type": "code",
   "execution_count": 1,
   "metadata": {},
   "outputs": [
    {
     "name": "stdout",
     "output_type": "stream",
     "text": [
      "hong\n"
     ]
    }
   ],
   "source": [
    "name = 'hong'\n",
    "class Person:\n",
    "    name = 'choi'\n",
    "    def greeting(self):\n",
    "        print(name)\n",
    "p1 = Person()\n",
    "p1.name = 'kim'\n",
    "p1.greeting()"
   ]
  },
  {
   "cell_type": "code",
   "execution_count": null,
   "metadata": {},
   "outputs": [],
   "source": [
    "1. isinstance(int, my_int)\n",
    "2. my_int ==3\n",
    "3. isinstance(my_int, 3)\n",
    "4. type(my_int) == int  (0)\n",
    "\n",
    "보기의 마이인트가 정수형인지 확인할 수 있는것"
   ]
  },
  {
   "cell_type": "code",
   "execution_count": null,
   "metadata": {},
   "outputs": [],
   "source": [
    "인스턴스 작성으로 옳은것?\n",
    "1. p1 = Person(p1, 'hong', 100)\n",
    "2.p2 = Person('kim')\n",
    "3. p3 = Person(age=3, name='kang') (0)\n"
   ]
  },
  {
   "cell_type": "code",
   "execution_count": null,
   "metadata": {},
   "outputs": [],
   "source": [
    "import copy\n",
    "\n",
    "list1 = [3, 'a', 'b']\n",
    "list2 = [1, 2, list1]\n",
    "\n",
    "list3 = list1[:]\n",
    "list4 = copy.copy(list2)\n",
    "list5 = copy.deepcopy(list2)\n"
   ]
  },
  {
   "cell_type": "code",
   "execution_count": null,
   "metadata": {},
   "outputs": [],
   "source": [
    "틀린것  ----3 번\n",
    "1. list1 == list3 True  값 비교라서 참\n",
    "2. list4[2][0] = 4\n",
    "    print(list2[2][0]) 의 결과는 4이다. 참조가 같아서 바꾸면 같이 됨\n",
    "3. list4[2] = 5 -- 참조가 끊기면서 타입이 바뀐거라서 값 자체가 \n",
    "    print(list2[2]) 의 결과는 5이다.\n",
    "4. list5[2][1] = 3\n",
    "    print(list2[2][1]) 의 결과는 'a' 다.\n",
    "    "
   ]
  },
  {
   "cell_type": "code",
   "execution_count": null,
   "metadata": {},
   "outputs": [],
   "source": [
    "LEGB 파이썬\n",
    "Local = 함수 내 정의된 지역 변수\n",
    "Enclosing function = 함수를 내포하는 또다른 함수영역\n",
    "Global = 함수영역에 포함되지 않는 모듈영역\n",
    "Built - in = 내장영역"
   ]
  },
  {
   "cell_type": "code",
   "execution_count": null,
   "metadata": {},
   "outputs": [],
   "source": [
    "def func1():\n",
    "    a = 10\n",
    "    def my_func2():\n",
    "    print(a, end=' ')\n",
    "my_func2()\n",
    "print(a)"
   ]
  },
  {
   "cell_type": "code",
   "execution_count": 4,
   "metadata": {},
   "outputs": [
    {
     "name": "stdout",
     "output_type": "stream",
     "text": [
      "30 10 2\n",
      "30 30 2\n"
     ]
    }
   ],
   "source": [
    "a = 1\n",
    "b = 2\n",
    "def func1():\n",
    "    a = 10  # f1 L  f2 E\n",
    "    def func2():\n",
    "            c=30   #f2 L\n",
    "            print(c, a, b)  # L, E , G\n",
    "    func2()\n",
    "    a = 30\n",
    "    func2()\n",
    "        \n",
    "func1()"
   ]
  },
  {
   "cell_type": "code",
   "execution_count": 5,
   "metadata": {},
   "outputs": [
    {
     "ename": "TypeError",
     "evalue": "'int' object is not callable",
     "output_type": "error",
     "traceback": [
      "\u001b[1;31m---------------------------------------------------------------------------\u001b[0m",
      "\u001b[1;31mTypeError\u001b[0m                                 Traceback (most recent call last)",
      "\u001b[1;32m<ipython-input-5-75080d482bea>\u001b[0m in \u001b[0;36m<module>\u001b[1;34m\u001b[0m\n\u001b[0;32m      1\u001b[0m \u001b[0mstr\u001b[0m \u001b[1;33m=\u001b[0m \u001b[1;36m1\u001b[0m\u001b[1;33m\u001b[0m\u001b[1;33m\u001b[0m\u001b[0m\n\u001b[1;32m----> 2\u001b[1;33m \u001b[0mstr\u001b[0m\u001b[1;33m(\u001b[0m\u001b[1;34m'1'\u001b[0m\u001b[1;33m)\u001b[0m\u001b[1;33m\u001b[0m\u001b[1;33m\u001b[0m\u001b[0m\n\u001b[0m",
      "\u001b[1;31mTypeError\u001b[0m: 'int' object is not callable"
     ]
    }
   ],
   "source": [
    "str = 1\n",
    "str('1') str 을 내장함수로 파악을 못함"
   ]
  },
  {
   "cell_type": "code",
   "execution_count": 6,
   "metadata": {},
   "outputs": [
    {
     "name": "stdout",
     "output_type": "stream",
     "text": [
      "inside 1\n",
      "after 3\n"
     ]
    }
   ],
   "source": [
    "a = 1\n",
    "def test():\n",
    "        global a\n",
    "        print(\"inside\", a) # a가 없어서 안나옴\n",
    "        a = 3\n",
    "test()\n",
    "print(\"after\", a)"
   ]
  }
 ],
 "metadata": {
  "kernelspec": {
   "display_name": "Python 3",
   "language": "python",
   "name": "python3"
  },
  "language_info": {
   "codemirror_mode": {
    "name": "ipython",
    "version": 3
   },
   "file_extension": ".py",
   "mimetype": "text/x-python",
   "name": "python",
   "nbconvert_exporter": "python",
   "pygments_lexer": "ipython3",
   "version": "3.6.7"
  }
 },
 "nbformat": 4,
 "nbformat_minor": 2
}
