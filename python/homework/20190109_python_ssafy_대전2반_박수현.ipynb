{
 "cells": [
  {
   "cell_type": "code",
   "execution_count": null,
   "metadata": {},
   "outputs": [],
   "source": [
    "def bisection(num):\n",
    "    a = 0\n",
    "    b = 2*num\n",
    "                #시작 할때 0 < num < b로 시작\n",
    "    for i in range(50): \n",
    "        c = ((a+b)/2)   # (a+b)/2 을 c 에 저장\n",
    "        if c**2 > num:\n",
    "            b = c         # c가 num보다 크면(오른쪽이면) b에 c값 넣기\n",
    "        else:\n",
    "            a = c         # c가 num보다 작으면 a에 c값넣기\n",
    "    return (a + b) / 2    #마지막 출력때 두값의 평균내서넣기\n",
    "\n",
    "print(bisection(-2))"
   ]
  },
  {
   "cell_type": "code",
   "execution_count": 3,
   "metadata": {},
   "outputs": [],
   "source": [
    "# def my_sqrt(x):\n",
    "#     right = 0\n",
    "    \n",
    "#     for i in range(1,x+1):\n",
    "#         left = (i + (i+1))*0.5\n",
    "#         if left < i*0.5:\n",
    "#                 right = (left+i*0.5)\n",
    "#                 i = right \n",
    "#     return i\n",
    "\n",
    "\n",
    "\n",
    "\n",
    "    \n"
   ]
  },
  {
   "cell_type": "code",
   "execution_count": 4,
   "metadata": {},
   "outputs": [
    {
     "data": {
      "text/plain": [
       "5"
      ]
     },
     "execution_count": 4,
     "metadata": {},
     "output_type": "execute_result"
    }
   ],
   "source": [
    "my_sqrt(5)"
   ]
  }
 ],
 "metadata": {
  "kernelspec": {
   "display_name": "Python 3",
   "language": "python",
   "name": "python3"
  },
  "language_info": {
   "codemirror_mode": {
    "name": "ipython",
    "version": 3
   },
   "file_extension": ".py",
   "mimetype": "text/x-python",
   "name": "python",
   "nbconvert_exporter": "python",
   "pygments_lexer": "ipython3",
   "version": "3.6.7"
  }
 },
 "nbformat": 4,
 "nbformat_minor": 2
}
