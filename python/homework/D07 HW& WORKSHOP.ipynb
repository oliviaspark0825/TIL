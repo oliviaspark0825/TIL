{
 "cells": [
  {
   "cell_type": "code",
   "execution_count": 2,
   "metadata": {},
   "outputs": [],
   "source": [
    "class Person:\n",
    "        def __init__(self, name, age=0): # 인스턴스가 생성될 때 호출되는 함수 , 자기 자신을 초기화한다\n",
    "            self.name = name # p1의 name에 홍길동을 넣겠다\n",
    "            self.age = age # 값을 인자로 바꾸니까 한번에 값이 다 바뀜 \n",
    "        # initialize의 self 는 class\n",
    "        def greeting(self):\n",
    "            print(f'안녕하세요. {self.name}. 나이는 {self.age}살 입니다.')\n",
    "        \n",
    "            "
   ]
  },
  {
   "cell_type": "code",
   "execution_count": 5,
   "metadata": {},
   "outputs": [
    {
     "name": "stdout",
     "output_type": "stream",
     "text": [
      "안녕하세요. 홍길동. 나이는 20살 입니다.\n"
     ]
    }
   ],
   "source": [
    "p1 = Person('홍길동', 20)\n",
    "p1.greeting()"
   ]
  },
  {
   "cell_type": "code",
   "execution_count": 6,
   "metadata": {},
   "outputs": [
    {
     "name": "stdout",
     "output_type": "stream",
     "text": [
      "안녕하세요. 둘리. 나이는 0살 입니다.\n"
     ]
    }
   ],
   "source": [
    "p2 = Person('둘리')\n",
    "p2.greeting()"
   ]
  }
 ],
 "metadata": {
  "kernelspec": {
   "display_name": "Python 3",
   "language": "python",
   "name": "python3"
  },
  "language_info": {
   "codemirror_mode": {
    "name": "ipython",
    "version": 3
   },
   "file_extension": ".py",
   "mimetype": "text/x-python",
   "name": "python",
   "nbconvert_exporter": "python",
   "pygments_lexer": "ipython3",
   "version": "3.6.7"
  }
 },
 "nbformat": 4,
 "nbformat_minor": 2
}
