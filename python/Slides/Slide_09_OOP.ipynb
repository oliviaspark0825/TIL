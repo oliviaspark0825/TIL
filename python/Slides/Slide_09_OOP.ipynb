{
 "cells": [
  {
   "cell_type": "code",
   "execution_count": null,
   "metadata": {},
   "outputs": [],
   "source": [
    "from IPython.display import IFrame"
   ]
  },
  {
   "cell_type": "markdown",
   "metadata": {},
   "source": [
    "# OOP with Python\n",
    "\n",
    "## 용어 정리\n",
    "\n",
    "```python\n",
    "class Person:                      #=> 클래스 정의(선언) : 클래스 객체 생성\n",
    "    name = '홍길동'                  #=> 멤버 변수(데이터 어트리뷰트)\n",
    "    def greeting(self):            #=> 멤버 메서드(메서드)\n",
    "        print(f'{self.name}')\n",
    "```\n",
    "    \n",
    "    \n",
    "```python\n",
    "iu = Person()       # 인스턴스 객체 생성\n",
    "daniel = Person()   # 인스턴스 객체 생성\n",
    "iu.name             # 데이터 어트리뷰트 호출\n",
    "iu.greeting()       # 메서드 호출\n",
    "```"
   ]
  },
  {
   "cell_type": "code",
   "execution_count": null,
   "metadata": {},
   "outputs": [],
   "source": [
    "class Person:\n",
    "    name = '홍길동'\n",
    "    def greeting(self):\n",
    "        print(f' {self.name}')\n",
    "\n",
    "iu = Person()\n",
    "iu.greeting()\n",
    "iu.name"
   ]
  },
  {
   "cell_type": "markdown",
   "metadata": {},
   "source": [
    "* 클래스와 인스턴스간의 관계를 확인해봅시다."
   ]
  },
  {
   "cell_type": "code",
   "execution_count": null,
   "metadata": {},
   "outputs": [],
   "source": [
    "isinstance(iu, Person) # 인스턴스인지 확인하는 방법"
   ]
  },
  {
   "cell_type": "markdown",
   "metadata": {},
   "source": [
    "##  `self` : 인스턴스 객체 자기자신\n",
    "\n",
    "* C++ 혹은 자바에서의 this 키워드와 동일함. \n",
    "\n",
    "* 특별한 상황을 제외하고는 무조건 메서드에서 `self`를 첫번째 인자로 설정한다.\n",
    "\n",
    "* 메서드는 인스턴스 객체가 함수의 첫번째 인자로 전달되도록 되어있다."
   ]
  },
  {
   "cell_type": "code",
   "execution_count": null,
   "metadata": {},
   "outputs": [],
   "source": [
    "# iu를 다시 인사시켜봅시다.\n",
    "iu.greeting()"
   ]
  },
  {
   "cell_type": "code",
   "execution_count": null,
   "metadata": {},
   "outputs": [],
   "source": [
    "# 다르게 인사를 시킬 수도 있습니다.\n",
    "# 실제로 이렇게 호출이 되는 것과 동일하기에 반드시 self로서 인스턴스 자기자신을 표현해야합니다.\n",
    "Person.greeting(iu) # self가 없으면 인자를 못받으니까 안됨"
   ]
  },
  {
   "cell_type": "markdown",
   "metadata": {},
   "source": [
    "* 클래스 선언부 내부에서도 반드시 self를 통해 데이터 어트리뷰트에 접근 해야 합니다."
   ]
  },
  {
   "cell_type": "code",
   "execution_count": null,
   "metadata": {},
   "outputs": [],
   "source": [
    "# 예시를 봅시다.\n",
    "name = '?'#전역변수\n",
    "class Person():\n",
    "    name = '홍길동'\n",
    "    def greeting(self):\n",
    "        print(f'{name}')"
   ]
  },
  {
   "cell_type": "code",
   "execution_count": null,
   "metadata": {},
   "outputs": [],
   "source": [
    "p1 = Person()\n",
    "print(p1.name)\n",
    "name = '밥밥밥'\n",
    "p1.greeting() # 호출을 하면 자기 자신을 호출했는데, 자기자신의 이름을 호출한게 아니라 class 밖에 있는 name을 호출했기 때문에 ? 가 나오게 됨 전역변수가 호출됨"
   ]
  },
  {
   "cell_type": "markdown",
   "metadata": {},
   "source": [
    "## 클래스-인스턴스간의 이름공간 # 자기가 차지하고 있는 공간\n",
    "\n",
    "* 클래스를 정의하면, 클래스 객체가 생성되고 해당되는 이름 공간이 생성된다. \n",
    "\n",
    "* 인스턴스를 만들게 되면, 인스턴스 객체가 생성되고 해당되는 이름 공간이 생성된다. *인스턴스 바꾼다고 클래스가 바뀌는거 아님 독립적이기 때문에// 클래스 새로 만들었다고 해서 인스턴스 달라지지 않음 // 애초에 인스턴스 만들면 - 나중에 person 바뀐다고해서 iu에게 영향을 주지 않음*\n",
    "\n",
    "* 인스턴스의 어트리뷰트가 변경되면, 변경된 데이터를 인스턴스 객체 이름 공간에 저장한다.\n",
    "\n",
    "* 즉, 인스턴스에서 특정한 어트리뷰트에 접근하게 되면 인스턴스 -> 클래스 순으로 탐색을 한다."
   ]
  },
  {
   "cell_type": "code",
   "execution_count": null,
   "metadata": {},
   "outputs": [],
   "source": [
    "iu.name = '아이유'\n",
    "iu.greeting()"
   ]
  },
  {
   "cell_type": "code",
   "execution_count": null,
   "metadata": {},
   "outputs": [],
   "source": [
    "# 아래의 Python Tutor를 통해 순차적으로 확인해봅시다.\n",
    "IFrame('https://goo.gl/ZgNaXB', width='100%', height='500px')"
   ]
  },
  {
   "cell_type": "markdown",
   "metadata": {},
   "source": [
    "## 생성자 / 소멸자\n",
    "\n",
    "* 생성자는 인스턴스 객체가 생성될 때 호출되는 함수이며, 소멸자는 객체가 소멸되는 과정에서 호출되는 함수입니다.\n",
    "\n",
    "```python\n",
    "def __init__(self):\n",
    "    print('생성될 때 자동으로 호출되는 메서드입니다.')\n",
    "    \n",
    "def __del__(self):\n",
    "    print('소멸될 때 자동으로 호출되는 메서드입니다.')\n",
    "```\n",
    "\n",
    "```\n",
    "__someting__\n",
    "```\n",
    "\n",
    "위의 형식처럼 양쪽에 언더스코어가 있는 메서드를 스페셜 메서드 혹은 매직 메서드라고 불립니다."
   ]
  },
  {
   "cell_type": "code",
   "execution_count": null,
   "metadata": {},
   "outputs": [],
   "source": [
    "# 클래스를 만듭니다.\n",
    "class Person():\n",
    "    def __init__(self):\n",
    "        print('응애')\n",
    "    def __del__(self):\n",
    "        print('빠이')"
   ]
  },
  {
   "cell_type": "code",
   "execution_count": null,
   "metadata": {},
   "outputs": [],
   "source": [
    "# 생성시켜봅시다.\n",
    "p1 = Person()"
   ]
  },
  {
   "cell_type": "code",
   "execution_count": null,
   "metadata": {},
   "outputs": [],
   "source": [
    "# 소멸시켜봅시다.\n",
    "del p1"
   ]
  },
  {
   "cell_type": "markdown",
   "metadata": {},
   "source": [
    "* 생성자 역시 메소드이기 때문에 추가적인 인자를 받을 수 있습니다."
   ]
  },
  {
   "cell_type": "code",
   "execution_count": null,
   "metadata": {},
   "outputs": [],
   "source": [
    "# 생성자에서 이름을 추가적으로 받아서 출력해봅시다.\n",
    "class Person:\n",
    "    def __init__(self, name):\n",
    "        print(f'응애, {name}')\n",
    "    def __del__(self):\n",
    "        print(f'빠이')"
   ]
  },
  {
   "cell_type": "code",
   "execution_count": null,
   "metadata": {},
   "outputs": [],
   "source": [
    "# 홍길동이라는 이름을 가진 hong 을 만들어봅시다. 한번에 다 받으려면 생성을 하면서 인자값까지 받는 방법\n",
    "hong = Person('홍길동')"
   ]
  },
  {
   "cell_type": "markdown",
   "metadata": {},
   "source": [
    "* 아래와 같이 모두 사용할 수 있습니다!\n",
    "\n",
    "```python\n",
    "def __init__(self, parameter1, parameter2):\n",
    "    print('생성될 때 자동으로 호출되는 메서드입니다.')\n",
    "    print(parameter1)\n",
    "\n",
    "def __init__(self, *args):\n",
    "    print('생성될 때 자동으로 호출되는 메서드입니다.')\n",
    "\n",
    "def __init__(self, **kwagrs):\n",
    "    print('생성될 때 자동으로 호출되는 메서드입니다.')\n",
    "```"
   ]
  },
  {
   "cell_type": "markdown",
   "metadata": {},
   "source": [
    "* 따라서, 생성자는 값을 초기화하는 과정에서 자주 활용됩니다. \n",
    "\n",
    "* 아래의 클래스 변수와 인스턴스 변수를 통해 확인해보겠습니다."
   ]
  },
  {
   "cell_type": "markdown",
   "metadata": {},
   "source": [
    "## 클래스 변수 / 인스턴스 변수\n",
    "\n",
    "```python\n",
    "class Person:\n",
    "    population = 0              # 클래스 변수 : 모든 인스턴스가 공유함. 만들어진 것 모두 같고\n",
    "    \n",
    "    def __init__(self, name):   \n",
    "        self.name = name        # 인스턴스 변수 : 인스턴스별로 각각 가지는 변수 // 각자가 가지는 공간 \n",
    "```        "
   ]
  },
  {
   "cell_type": "code",
   "execution_count": 2,
   "metadata": {},
   "outputs": [],
   "source": [
    "# 생성자와 인사하는 메소드를 만들어봅시다. name == 인자\n",
    "class Person:\n",
    "    population = 0\n",
    "    \n",
    "    def __init__(self, name):\n",
    "        self.name = name\n",
    "        Person.population += 1 \n",
    "        \n",
    "        \n",
    "    def greeting(self):\n",
    "        print(f'{self.name}입니다. 반가워요.')"
   ]
  },
  {
   "cell_type": "code",
   "execution_count": 3,
   "metadata": {},
   "outputs": [],
   "source": [
    "# 본인의 이름을 가진 인스턴스를 만들어봅시다. name 이라는 변수 이름을 출력하려면  self, name 으로 했으니까 \n",
    "me = Person('빵수')"
   ]
  },
  {
   "cell_type": "code",
   "execution_count": 4,
   "metadata": {},
   "outputs": [
    {
     "data": {
      "text/plain": [
       "'빵수'"
      ]
     },
     "execution_count": 4,
     "metadata": {},
     "output_type": "execute_result"
    }
   ],
   "source": [
    "# 이름을 출력해봅시다.\n",
    "me.name"
   ]
  },
  {
   "cell_type": "code",
   "execution_count": 5,
   "metadata": {},
   "outputs": [],
   "source": [
    "# 옆자리 친구의 이름을 가진 인스턴스를 만들어봅시다.\n",
    "friend = Person('구현')"
   ]
  },
  {
   "cell_type": "code",
   "execution_count": 6,
   "metadata": {},
   "outputs": [
    {
     "data": {
      "text/plain": [
       "'구현'"
      ]
     },
     "execution_count": 6,
     "metadata": {},
     "output_type": "execute_result"
    }
   ],
   "source": [
    "# 이름을 출력해봅시다.\n",
    "friend.name"
   ]
  },
  {
   "cell_type": "code",
   "execution_count": 7,
   "metadata": {},
   "outputs": [
    {
     "data": {
      "text/plain": [
       "2"
      ]
     },
     "execution_count": 7,
     "metadata": {},
     "output_type": "execute_result"
    }
   ],
   "source": [
    "# population을 출력해봅시다. 2번 만들었고 init이 두번 되었기 때문에\n",
    "Person.population"
   ]
  },
  {
   "cell_type": "code",
   "execution_count": 9,
   "metadata": {},
   "outputs": [
    {
     "data": {
      "text/plain": [
       "2"
      ]
     },
     "execution_count": 9,
     "metadata": {},
     "output_type": "execute_result"
    }
   ],
   "source": [
    "# 물론, 인스턴스도 접근 가능합니다. 왜일까요?!\n",
    "me.population\n",
    "friend.population"
   ]
  },
  {
   "cell_type": "markdown",
   "metadata": {},
   "source": [
    "## 정적 메서드 / 클래스 메서드\n",
    "\n",
    "* 메서드 호출을 인스턴스가 아닌 클래스가 할 수 있도록 구성할 수 있습니다. \n",
    "\n",
    "* 이때 활용되는게 정적 메서드 혹은 클래스 메서드입니다.\n",
    "\n",
    "* 정적 메소드는 객체가 전달되지 않은 형태이며, 클래스 메서드는 인자로 클래스를 넘겨준다."
   ]
  },
  {
   "cell_type": "code",
   "execution_count": 10,
   "metadata": {
    "scrolled": true
   },
   "outputs": [
    {
     "ename": "TypeError",
     "evalue": "greeting() missing 1 required positional argument: 'self'",
     "output_type": "error",
     "traceback": [
      "\u001b[1;31m---------------------------------------------------------------------------\u001b[0m",
      "\u001b[1;31mTypeError\u001b[0m                                 Traceback (most recent call last)",
      "\u001b[1;32mcell_name\u001b[0m in \u001b[0;36masync-def-wrapper\u001b[1;34m()\u001b[0m\n",
      "\u001b[1;31mTypeError\u001b[0m: greeting() missing 1 required positional argument: 'self'"
     ]
    }
   ],
   "source": [
    "# Person 클래스가 인사할 수 있는지 확인해보겠습니다.\n",
    " Person.greeting() # greeting 자체가 인스턴스로 만들어졌기 때문에 클래스 자체로 호출 불가"
   ]
  },
  {
   "cell_type": "code",
   "execution_count": 13,
   "metadata": {},
   "outputs": [],
   "source": [
    "# 이번에는 Dog class를 만들어보겠습니다.\n",
    "# 클래스 변수 num_of_dogs 통해 개가 생성될 때마다 증가시키도록 하겠습니다. \n",
    "# 개들은 각자의 이름과 나이를 가지고 있습니다. \n",
    "# 그리고 bark() 메서드를 통해 짖을 수 있습니다. \n",
    "class Dog:\n",
    "    num_of_dog = 0\n",
    "    def __init__(self, name, age):\n",
    "            self.name = name\n",
    "            self.age = age\n",
    "            Dog.num_of_dog += 1 \n",
    "    def bark(self):\n",
    "            print(f'멍멍, {self.name}')"
   ]
  },
  {
   "cell_type": "code",
   "execution_count": 14,
   "metadata": {},
   "outputs": [],
   "source": [
    "# 각각 이름과 나이가 다른 인스턴스를 3개 만들어봅시다.\n",
    "na = Dog('빵', 10)\n",
    "you = Dog('밥이요', 100)\n",
    "hey = Dog('강아지', 26)"
   ]
  },
  {
   "cell_type": "code",
   "execution_count": 17,
   "metadata": {},
   "outputs": [
    {
     "name": "stdout",
     "output_type": "stream",
     "text": [
      "멍멍, 강아지\n"
     ]
    }
   ],
   "source": [
    "hey.bark()"
   ]
  },
  {
   "cell_type": "markdown",
   "metadata": {},
   "source": [
    "* staticmethod는 다음과 같이 정의됩니다.\n",
    "\n",
    "```python\n",
    "\n",
    "@staticmethod\n",
    "def methodname():\n",
    "    codeblock\n",
    "```"
   ]
  },
  {
   "cell_type": "code",
   "execution_count": 18,
   "metadata": {},
   "outputs": [],
   "source": [
    "# 단순한 static method를 만들어보겠습니다.\n",
    "class Dog:\n",
    "    num_of_dog = 0\n",
    "    def __init__(self, name, age):\n",
    "            self.name = name\n",
    "            self.age = age\n",
    "            Dog.num_of_dog += 1 \n",
    "    def bark(self):\n",
    "            print(f'멍멍, {self.name}')\n",
    "    @staticmethod\n",
    "    def info():\n",
    "        print('개입니다.')"
   ]
  },
  {
   "cell_type": "code",
   "execution_count": 19,
   "metadata": {},
   "outputs": [],
   "source": [
    "# 3마리를 만들어보고,\n",
    "na = Dog('빵', 10)\n",
    "you = Dog('밥이요', 100)\n",
    "hey = Dog('강아지', 26)"
   ]
  },
  {
   "cell_type": "code",
   "execution_count": 21,
   "metadata": {},
   "outputs": [
    {
     "name": "stdout",
     "output_type": "stream",
     "text": [
      "개입니다.\n",
      "개입니다.\n"
     ]
    }
   ],
   "source": [
    "# info 메소드를 호출해 봅니다. 함수 호출용 - staticmethod 로 활용\n",
    "Dog.info()\n",
    "na.info() # 인스턴스도 가능"
   ]
  },
  {
   "cell_type": "markdown",
   "metadata": {},
   "source": [
    "* classmethod는 다음과 같이 정의됩니다.\n",
    "\n",
    "```python\n",
    "\n",
    "@classmethod\n",
    "def methodname(cls):\n",
    "    codeblock\n",
    "```"
   ]
  },
  {
   "cell_type": "code",
   "execution_count": 22,
   "metadata": {},
   "outputs": [],
   "source": [
    "# 개의 숫자를 출력하는 classmethod를 만들어보겠습니다.\n",
    "class Dog:\n",
    "    num_of_dog = 0\n",
    "    def __init__(self, name, age):\n",
    "            self.name = name\n",
    "            self.age = age\n",
    "            Dog.num_of_dog += 1 \n",
    "    def bark(self):\n",
    "            print(f'멍멍, {self.name}')\n",
    "    @classmethod\n",
    "    def count(cls): # 항상 self 처럼 써야하는 것\n",
    "            print(cls)\n",
    "            print(f'{cls.num_of_dog} 마리')"
   ]
  },
  {
   "cell_type": "code",
   "execution_count": 23,
   "metadata": {},
   "outputs": [],
   "source": [
    "# 3마리를 만들어보고,\n",
    "na = Dog('빵', 10)\n",
    "you = Dog('밥이요', 100)\n",
    "hey = Dog('강아지', 26)"
   ]
  },
  {
   "cell_type": "code",
   "execution_count": 25,
   "metadata": {
    "scrolled": false
   },
   "outputs": [
    {
     "name": "stdout",
     "output_type": "stream",
     "text": [
      "<class '__main__.Dog'>\n",
      "3 마리\n",
      "<class '__main__.Dog'>\n",
      "3 마리\n"
     ]
    }
   ],
   "source": [
    "# count 메소드를 호출해 봅니다. 3번 돌았으니까  classmethod 는 함수가 인자값을 받는 경우에 사용\n",
    "Dog.count()\n",
    "na.count()"
   ]
  },
  {
   "cell_type": "markdown",
   "metadata": {},
   "source": [
    "## 실습 - 정적 메소드\n",
    "\n",
    "> 계산기 class인 `Calculator`를 만들어봅시다.\n",
    "\n",
    "* 정적 메소드 : 두 수를 받아서 각각의 연산을 한 결과를 반환(return)\n",
    "\n",
    "    1. `add()` : 덧셈\n",
    "    \n",
    "    2. `sub()` : 뺄셈 \n",
    "    \n",
    "    3. `mul()` : 곱셈\n",
    "    \n",
    "    4. `div()` : 나눗셈\n"
   ]
  },
  {
   "cell_type": "code",
   "execution_count": 27,
   "metadata": {},
   "outputs": [],
   "source": [
    "# 아래에 코드를 작성해주세요. 정적메소드는 인자값을 받지 않는다? instance 나 class를 처음에 인자로 받지 않음  # class 안에 있는 일반 함수, instance로도 호출 가능\n",
    "class Calculator:\n",
    "    @staticmethod # init 필요없음\n",
    "    def add(a, b):\n",
    "        return a + b\n",
    "        "
   ]
  },
  {
   "cell_type": "code",
   "execution_count": 28,
   "metadata": {},
   "outputs": [
    {
     "data": {
      "text/plain": [
       "4"
      ]
     },
     "execution_count": 28,
     "metadata": {},
     "output_type": "execute_result"
    }
   ],
   "source": [
    "Calculator.add(1, 3)"
   ]
  },
  {
   "cell_type": "markdown",
   "metadata": {},
   "source": [
    "## 실습 - 스택\n",
    "\n",
    "> `Stack` 클래스를 간략하게 구현해봅시다.\n",
    "\n",
    "> [Stack](https://ko.wikipedia.org/wiki/%EC%8A%A4%ED%83%9D) : 스택은 LIFO(Last in First Out)으로 구조화된 자료구조를 뜻합니다.\n",
    "\n",
    "1. `empty()`: 스택이 비었다면 참을 주고,그렇지 않다면 거짓이 된다.\n",
    "\n",
    "2. `top()`: 스택의 가장 마지막 데이터를 넘겨준다. 스택이 비었다면 None을 리턴해주세요.\n",
    "\n",
    "3. `pop()`: 스택의 가장 마지막 데이터의 값을 넘겨주고 해당 데이터를 삭제한다. 스택이 비었다면 None을 리턴해주세요.\n",
    "\n",
    "4. `push()`: 스택의 가장 마지막 데이터 뒤에 값을 추가한다. 리턴값 없음\n",
    "\n",
    "**다 완료하신 분들은 __repr__을 통해 스택의 아이템들을 예쁘게 출력까지 해봅시다.**"
   ]
  },
  {
   "cell_type": "code",
   "execution_count": 34,
   "metadata": {},
   "outputs": [],
   "source": [
    "# 여기에 코드를 작성해주세요.\n",
    "class Stack:\n",
    "    # 빈 리스트 만들어주어야하니까 init 해야함 , 생성할때마다 새로운 리스트를 만들어주어야 함 인스턴스에 빈 리스트가 만들어짐\n",
    "   #  stack = [] 이렇게 하면 다 공유하니까, p1 p2 인스턴스에 다른 방이 있어야지 공유하면 안됨\n",
    "\n",
    "    def __init__(self):\n",
    "        self.items = []\n",
    "    def empty(self):\n",
    "            return not self.items # 없으면 참 \n",
    "        \n",
    "    def top(self): \n",
    "            if self.items: # 값이 있을 때\n",
    "                return self.items[-1]\n",
    "          #false면 리턴값이 자동으로 none이라서 필요 없음리턴값 없으면\n",
    "        \n",
    "    def pop(self):\n",
    "            if self.items: # 값이 있으면\n",
    "                   return self.items.pop()\n",
    "            \n",
    "    def push(self, element): # 값이 들어가니까 인자를 받아야 함\n",
    "            self.items.append(element)\n",
    "        "
   ]
  },
  {
   "cell_type": "code",
   "execution_count": 35,
   "metadata": {},
   "outputs": [],
   "source": [
    "# 인스턴스를 하나 만들고 메소드 조작을 해봅시다.\n",
    "s1 = Stack()\n"
   ]
  },
  {
   "cell_type": "code",
   "execution_count": 36,
   "metadata": {},
   "outputs": [],
   "source": [
    "s1.push('hi')"
   ]
  },
  {
   "cell_type": "code",
   "execution_count": 37,
   "metadata": {},
   "outputs": [
    {
     "name": "stdout",
     "output_type": "stream",
     "text": [
      "<__main__.Stack object at 0x00000286C7B9BE48>\n"
     ]
    }
   ],
   "source": [
    "print(s1)"
   ]
  },
  {
   "cell_type": "code",
   "execution_count": 38,
   "metadata": {},
   "outputs": [
    {
     "data": {
      "text/plain": [
       "False"
      ]
     },
     "execution_count": 38,
     "metadata": {},
     "output_type": "execute_result"
    }
   ],
   "source": [
    "s1.empty() # false 는 비어있지 않다"
   ]
  },
  {
   "cell_type": "code",
   "execution_count": 39,
   "metadata": {},
   "outputs": [
    {
     "data": {
      "text/plain": [
       "['hi']"
      ]
     },
     "execution_count": 39,
     "metadata": {},
     "output_type": "execute_result"
    }
   ],
   "source": [
    "s1.items # 뭐가 들어가있는지 확인"
   ]
  },
  {
   "cell_type": "code",
   "execution_count": 40,
   "metadata": {},
   "outputs": [
    {
     "data": {
      "text/plain": [
       "'hi'"
      ]
     },
     "execution_count": 40,
     "metadata": {},
     "output_type": "execute_result"
    }
   ],
   "source": [
    "s1.pop() # 들어있는거 빼보기"
   ]
  },
  {
   "cell_type": "code",
   "execution_count": 41,
   "metadata": {},
   "outputs": [
    {
     "data": {
      "text/plain": [
       "True"
      ]
     },
     "execution_count": 41,
     "metadata": {},
     "output_type": "execute_result"
    }
   ],
   "source": [
    "s1.empty()"
   ]
  },
  {
   "cell_type": "code",
   "execution_count": 43,
   "metadata": {},
   "outputs": [
    {
     "data": {
      "text/plain": [
       "[]"
      ]
     },
     "execution_count": 43,
     "metadata": {},
     "output_type": "execute_result"
    }
   ],
   "source": [
    "s1.items"
   ]
  },
  {
   "cell_type": "markdown",
   "metadata": {},
   "source": [
    "## 연산자 오버라이딩(중복 정의)\n",
    "\n",
    "* 파이썬에 기본적으로 정의된 연산자를 직접적으로 정의하여 활용할 수 있습니다. \n",
    "\n",
    "* 몇가지만 소개하고 활용해봅시다.\n",
    "\n",
    "```\n",
    "+  __add__   \n",
    "-  __sub__\n",
    "*  __mul__\n",
    "<  __lt__\n",
    "<= __le__\n",
    "== __eq__\n",
    "!= __ne__\n",
    ">= __ge__\n",
    ">  __gt__\n",
    "```"
   ]
  },
  {
   "cell_type": "code",
   "execution_count": 44,
   "metadata": {},
   "outputs": [],
   "source": [
    "# 사람과 사람을 더하면, 나이의 합을 반환하도록 만들어봅시다.\n",
    "class Person:\n",
    "    population = 0\n",
    "    def __init__(self, name, age):\n",
    "            self.name = name\n",
    "            self.age = age\n",
    "            Person.population += 1 # 생성될때마다 세겠다\n",
    "        \n",
    "    def greeting(self):\n",
    "            print(f'{self.name} 입니다. 방가워요.')\n",
    "    \n",
    "    def __add__(self, other): # 얘가 생성한 다른 instane == other\n",
    "            return f'나이 합은 {self.age + other.age}'\n",
    "    \n",
    "    def __sub__(self, other):\n",
    "            return f'나이 차는 {self.age - other.age}'"
   ]
  },
  {
   "cell_type": "code",
   "execution_count": 45,
   "metadata": {},
   "outputs": [],
   "source": [
    "# 연산자를 호출해봅시다.\n",
    "p1 = Person('아저씨', 40)\n",
    "p2 = Person('청소년', 15)"
   ]
  },
  {
   "cell_type": "code",
   "execution_count": 46,
   "metadata": {},
   "outputs": [
    {
     "data": {
      "text/plain": [
       "'나이 합은 55'"
      ]
     },
     "execution_count": 46,
     "metadata": {},
     "output_type": "execute_result"
    }
   ],
   "source": [
    "# 원하는 연산자로 사람과 사람을 비교해보세요.\n",
    "p1 + p2"
   ]
  },
  {
   "cell_type": "code",
   "execution_count": 47,
   "metadata": {},
   "outputs": [
    {
     "data": {
      "text/plain": [
       "'나이 차는 25'"
      ]
     },
     "execution_count": 47,
     "metadata": {},
     "output_type": "execute_result"
    }
   ],
   "source": [
    "p1 - p2"
   ]
  },
  {
   "cell_type": "code",
   "execution_count": 48,
   "metadata": {},
   "outputs": [
    {
     "name": "stdout",
     "output_type": "stream",
     "text": [
      "4\n",
      "13\n"
     ]
    }
   ],
   "source": [
    "# 파이썬 내부를 살펴봅시다.\n",
    "print(1 + 3)\n",
    "print('1' + '3')\n",
    "# 이렇게 + 연산자가 서로 다르게 활용될 수 있는 이유는 파이썬 내부적으로 각각 다른 클래스마다 다른 정의가 있기 때문입니다."
   ]
  },
  {
   "cell_type": "markdown",
   "metadata": {},
   "source": [
    "# 상속 \n",
    "\n",
    "## 기초\n",
    "\n",
    "* 클래스에서 가장 큰 특징은 '상속' 기능을 가지고 있다는 것이다. \n",
    "\n",
    "* 부모 클래스의 모든 속성이 자식 클래스에게 상속 되므로 코드재사용성이 높아집니다.\n",
    "* 자식클래스(부모클래스)\n",
    "```python\n",
    "class DerivedClassName(BaseClassName):\n",
    "    code block\n",
    "```"
   ]
  },
  {
   "cell_type": "code",
   "execution_count": 53,
   "metadata": {},
   "outputs": [],
   "source": [
    "# 인사만 할 수 있는 간단한 사람 클래스를 만들어봅시다.\n",
    "class Person:\n",
    "    def __init__(self, name):\n",
    "        self.name = name\n",
    "        \n",
    "    def greeting(self):\n",
    "        print(f'안녕하세요. {self.name}라고 합니다.')"
   ]
  },
  {
   "cell_type": "code",
   "execution_count": 57,
   "metadata": {},
   "outputs": [],
   "source": [
    "# 사람 클래스를 상속받아 학생 클래스를 만들어봅시다.\n",
    "class Student(Person):\n",
    "        def __init__(self, name, student_id):\n",
    "                self.name = name\n",
    "                self.student_id = student_id\n",
    "        "
   ]
  },
  {
   "cell_type": "code",
   "execution_count": 58,
   "metadata": {},
   "outputs": [],
   "source": [
    "# 학생을 만들어봅시다.\n",
    "s1 = Student('싸피', '20190101')"
   ]
  },
  {
   "cell_type": "code",
   "execution_count": 59,
   "metadata": {},
   "outputs": [
    {
     "name": "stdout",
     "output_type": "stream",
     "text": [
      "안녕하세요. 싸피라고 합니다.\n"
     ]
    }
   ],
   "source": [
    "# 부모 클래스에 정의를 했음에도 메소드를 호출 할 수 있습니다.\n",
    "s1.greeting()"
   ]
  },
  {
   "cell_type": "markdown",
   "metadata": {},
   "source": [
    "* 이처럼 상속은 공통된 속성이나 메소드를 부모 클래스에 정의하고, 이를 상속받아 다양한 형태의 사람들을 만들 수 있습니다."
   ]
  },
  {
   "cell_type": "code",
   "execution_count": 60,
   "metadata": {},
   "outputs": [
    {
     "data": {
      "text/plain": [
       "False"
      ]
     },
     "execution_count": 60,
     "metadata": {},
     "output_type": "execute_result"
    }
   ],
   "source": [
    "# 진짜 상속관계인지 확인해봅시다.\n",
    "issubclass(Person, Student)"
   ]
  },
  {
   "cell_type": "code",
   "execution_count": 61,
   "metadata": {},
   "outputs": [
    {
     "data": {
      "text/plain": [
       "True"
      ]
     },
     "execution_count": 61,
     "metadata": {},
     "output_type": "execute_result"
    }
   ],
   "source": [
    "issubclass(Student, Person)"
   ]
  }
 ],
 "metadata": {
  "kernelspec": {
   "display_name": "Python 3",
   "language": "python",
   "name": "python3"
  },
  "language_info": {
   "codemirror_mode": {
    "name": "ipython",
    "version": 3
   },
   "file_extension": ".py",
   "mimetype": "text/x-python",
   "name": "python",
   "nbconvert_exporter": "python",
   "pygments_lexer": "ipython3",
   "version": "3.6.7"
  },
  "latex_envs": {
   "LaTeX_envs_menu_present": true,
   "autoclose": false,
   "autocomplete": true,
   "bibliofile": "biblio.bib",
   "cite_by": "apalike",
   "current_citInitial": 1,
   "eqLabelWithNumbers": true,
   "eqNumInitial": 1,
   "hotkeys": {
    "equation": "Ctrl-E",
    "itemize": "Ctrl-I"
   },
   "labels_anchors": false,
   "latex_user_defs": false,
   "report_style_numbering": false,
   "user_envs_cfg": false
  },
  "toc": {
   "base_numbering": 1,
   "nav_menu": {},
   "number_sections": true,
   "sideBar": true,
   "skip_h1_title": false,
   "title_cell": "Table of Contents",
   "title_sidebar": "Contents",
   "toc_cell": false,
   "toc_position": {},
   "toc_section_display": true,
   "toc_window_display": false
  }
 },
 "nbformat": 4,
 "nbformat_minor": 2
}
