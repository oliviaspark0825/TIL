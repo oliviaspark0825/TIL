{
 "cells": [
  {
   "cell_type": "markdown",
   "metadata": {},
   "source": [
    "# 문자열 계산하기\n",
    "\n",
    "> 아래와 같이 문자열이 주어졌을 때, 바보같은 사용자를 위해 계산을 해주려고 한다.\n",
    ">\n",
    "> 이 계산기는 더하기와 빼기밖에 못한다.\n",
    ">\n",
    "> `calc(equation)`을 만들어봅시다.\n",
    "\n",
    "---\n",
    "\n",
    "예시)\n",
    "\n",
    "```python\n",
    "calc('123+2-124') #=> 1\n",
    "calc('-12+12-7979+9191') #=> 1212\n",
    "calc('+1-1+1-1+1-1+1-1+1-1+1-1+1-1+1-1+1-1+1-1+1-1+1-1+1-1+1-1+1-1+1-1') #=> 0\n",
    "```"
   ]
  },
  {
   "cell_type": "code",
   "execution_count": 113,
   "metadata": {},
   "outputs": [],
   "source": [
    "# 여기에 코드를 작성하세요\n",
    "def calc(equation):\n",
    "    x = \"+\"\n",
    "    y = '-'\n",
    "    first = []\n",
    "    sec = ''\n",
    "\n",
    "    for i in equation:\n",
    "        if not i.isdigit():\n",
    "            first = equation.split('+')\n",
    "            for a in first:\n",
    "                if y in a:\n",
    "                    sec = equation.\n",
    "        \n",
    "#             for a in first:\n",
    "#                 if not a.isdigit():\n",
    "#                     sec = first.split('-')\n",
    "#         return sum(map(int,new_room))\n",
    "    print(first)\n",
    "                    \n",
    "#             for a in new_room:\n",
    "#                 new_room = new_room.split(str)\n",
    "\n",
    "            \n",
    "    \n",
    "#     return sum(map(int,sec))\n",
    "\n"
   ]
  },
  {
   "cell_type": "code",
   "execution_count": 124,
   "metadata": {},
   "outputs": [],
   "source": [
    "def calc(equation):\n",
    "    for x in equation:\n",
    "        if x == '+':\n",
    "            equation= equation.replace(x, \" \")\n",
    "        if x == '-':\n",
    "            equation = equation.replace(x, \" -\") # 공백을 주고서  기준으로 split 가능 +1 -> ' ' +1\n",
    "            \n",
    "    return sum(list(map(int, equation.split())))\n",
    "# + 앞에도  공백을 주면 int로 바꾸면 숫자 자체로 인식이 되니까"
   ]
  },
  {
   "cell_type": "code",
   "execution_count": 122,
   "metadata": {},
   "outputs": [],
   "source": [
    "# 문자열 자체를 \n",
    "def calc(equation):\n",
    "    equation = equation.replace('+', ' +').replace('-', ' -') #어차피 문자열이라 그냥 바로 붙여도 됨\n",
    "    return sum(map(int, equation.split())) # split 하면 이미 리스트로 만들어줌"
   ]
  },
  {
   "cell_type": "code",
   "execution_count": 81,
   "metadata": {},
   "outputs": [
    {
     "ename": "IndentationError",
     "evalue": "unindent does not match any outer indentation level (<tokenize>, line 5)",
     "output_type": "error",
     "traceback": [
      "\u001b[1;36m  File \u001b[1;32m\"<tokenize>\"\u001b[1;36m, line \u001b[1;32m5\u001b[0m\n\u001b[1;33m    return  sum(map(int,foo. split()))\u001b[0m\n\u001b[1;37m    ^\u001b[0m\n\u001b[1;31mIndentationError\u001b[0m\u001b[1;31m:\u001b[0m unindent does not match any outer indentation level\n"
     ]
    }
   ],
   "source": [
    " 연산자 기준으로 split 하고, 연산자는 str으로 바꾸어주고 문자열 기준으로 split  나머지는 int로 변환\n",
    "     if not x.isdigit(): #아니면 true\n",
    "            foo= foo.replace(x, ' ')\n",
    "    \n",
    "    return  sum(map(int,foo. split()))"
   ]
  },
  {
   "cell_type": "code",
   "execution_count": 125,
   "metadata": {},
   "outputs": [
    {
     "name": "stdout",
     "output_type": "stream",
     "text": [
      "1\n",
      "1212\n",
      "0\n"
     ]
    }
   ],
   "source": [
    "# 해당 코드를 통해 올바른 결과가 나오는지 확인하세요.\n",
    "print(calc('123+2-124'))\n",
    "print(calc('-12+12-7979+9191'))\n",
    "print(calc('+1-1+1-1+1-1+1-1+1-1+1-1+1-1+1-1+1-1+1-1+1-1+1-1+1-1+1-1+1-1+1-1'))"
   ]
  },
  {
   "cell_type": "markdown",
   "metadata": {},
   "source": [
    "# 시험 채점 시스템\n",
    "\n",
    "> 첫 번째 인자는 정답이 들어있는 리스트, 두 번째 인자는 사용자의 답이 들어있는 리스트입니다. 두 리스트는 비어있지 않으며 길이가 같습니다.\n",
    "\n",
    "> 정답의 경우 +4점, 오답의 경우 -1점, 공백 응답(빈 문자열)의 경우 0점입니다. 만약, 점수가 0보다 작으면 0을 return 합니다.\n",
    ">\n",
    "> 위와 같이 시험 점수를 체크하는 함수 `check_score(real_answers, my_answers)` 을 작성하세요.\n",
    "\n",
    "예시)\n",
    "\n",
    "```python\n",
    "check_score([\"a\", \"a\", \"b\", \"b\"], [\"a\", \"c\", \"b\", \"d\"]) #=> 6\n",
    "check_score([\"a\", \"a\", \"c\", \"b\"], [\"a\", \"a\", \"b\", \"\"]) #=> 7\n",
    "check_score([\"a\", \"a\", \"b\", \"c\"], [\"a\", \"a\", \"b\", \"c\"]) #=> 16\n",
    "check_score([\"b\", \"c\", \"b\", \"a\"], [\"\", \"a\", \"a\", \"c\"]) #=> 0\n",
    "```"
   ]
  },
  {
   "cell_type": "code",
   "execution_count": 133,
   "metadata": {},
   "outputs": [],
   "source": [
    "# 여기에 코드를 작성하세요.\n",
    "def check_score(real_answers, my_answers):\n",
    "    return max(0,sum([4 if r == m else -1 \n",
    "                                                for r, m in zip(real_answers, my_answers) \n",
    "                                                if m ]))\n",
    "\n",
    "# my에 값이 없을 때  if m\n",
    "#오른쪽 값이 - 나오면 자동으로 0이 나오니까\n",
    "# for 문이 먼저 돌고 - 처리 순서는 끝에서 왼쪽 : 그럼 먼저 if m을 보겠지 -- 빈문자 --> false => 앞으로 안넘어감 이미 끝난거라서 "
   ]
  },
  {
   "cell_type": "code",
   "execution_count": 135,
   "metadata": {},
   "outputs": [],
   "source": [
    "def check_score(real_answers, my_answers):\n",
    "    for r, m in zip(real_answers, my_answers):\n",
    "        if m:\n",
    "            if real == my:\n",
    "                4\n",
    "                if my:\n",
    "                    \n",
    "            else:\n",
    "                -1\n",
    "                \n",
    "                \n",
    "        if  r == m :\n",
    "            return 4\n",
    "        elif m == False:\n",
    "            return 0\n",
    "        else:\n",
    "            return -1\n",
    "    4 if real == my else -1 if my else 0\n",
    "    for real, \n",
    "        "
   ]
  },
  {
   "cell_type": "code",
   "execution_count": 131,
   "metadata": {},
   "outputs": [],
   "source": [
    "def check_score(real_answers, my_answers):\n",
    "    ans = [   4 if real == my else -1\n",
    "          if my else 0\n",
    "                    for real, my in zip(real_answers, my_answers)]\n",
    "    if sum(ans) < 0:\n",
    "        return 0\n",
    "    else:\n",
    "        return sum(ans)"
   ]
  },
  {
   "cell_type": "code",
   "execution_count": null,
   "metadata": {},
   "outputs": [],
   "source": []
  },
  {
   "cell_type": "code",
   "execution_count": 136,
   "metadata": {},
   "outputs": [
    {
     "name": "stdout",
     "output_type": "stream",
     "text": [
      "4\n",
      "4\n",
      "4\n",
      "-1\n"
     ]
    }
   ],
   "source": [
    "# 해당 코드를 통해 올바른 결과가 나오는지 확인하세요.\n",
    "print(check_score([\"a\", \"a\", \"b\", \"b\"], [\"a\", \"c\", \"b\", \"d\"]))\n",
    "print(check_score([\"a\", \"a\", \"c\", \"b\"], [\"a\", \"a\", \"b\", \"\"]))\n",
    "print(check_score([\"a\", \"a\", \"b\", \"c\"], [\"a\", \"a\", \"b\", \"c\"]))\n",
    "print(check_score([\"b\", \"c\", \"b\", \"a\"], [\"\", \"a\", \"a\", \"c\"]))"
   ]
  }
 ],
 "metadata": {
  "kernelspec": {
   "display_name": "Python 3",
   "language": "python",
   "name": "python3"
  },
  "language_info": {
   "codemirror_mode": {
    "name": "ipython",
    "version": 3
   },
   "file_extension": ".py",
   "mimetype": "text/x-python",
   "name": "python",
   "nbconvert_exporter": "python",
   "pygments_lexer": "ipython3",
   "version": "3.6.7"
  },
  "toc": {
   "base_numbering": 1,
   "nav_menu": {},
   "number_sections": true,
   "sideBar": true,
   "skip_h1_title": false,
   "title_cell": "Table of Contents",
   "title_sidebar": "Contents",
   "toc_cell": false,
   "toc_position": {},
   "toc_section_display": true,
   "toc_window_display": false
  }
 },
 "nbformat": 4,
 "nbformat_minor": 2
}
