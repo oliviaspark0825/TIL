{
 "cells": [
  {
   "cell_type": "markdown",
   "metadata": {},
   "source": [
    "## D01 WORKSHOP"
   ]
  },
  {
   "cell_type": "markdown",
   "metadata": {},
   "source": [
    "**문제 0**\n",
    "- 1월부터 12월까지 다음과 같은 형태로 달력이 출력되도록 코드를 작성하세요.\n",
    "```bash\n",
    "1 월\n",
    "일 월 화 수 목 금 토\n",
    "1 2 3 4 5 6 7\n",
    "8 9 10 11 12 13 14\n",
    "15 16 17 18 19 20 21\n",
    "22 23 24 25 26 27 28\n",
    "29 30 31\n",
    "2 월\n",
    "일 월 화 수 목 금 토\n",
    "1 2 3 4 5 6 7\n",
    "8 9 10 11 12 13 14\n",
    "15 16 17 18 19 20 21\n",
    "22 23 24 25 26 27 28\n",
    "```"
   ]
  },
  {
   "cell_type": "code",
   "execution_count": 14,
   "metadata": {},
   "outputs": [
    {
     "name": "stdout",
     "output_type": "stream",
     "text": [
      "1월 \n",
      "일월화수목금토 \n",
      " [1, 2, 3, 4, 5, 6, 7, 8, 9, 10, 11, 12, 13, 14, 15, 16, 17, 18, 19, 20, 21, 22, 23, 24, 25, 26, 27, 28, 29, 30, 31]\n",
      "2월 \n",
      "일월화수목금토 \n",
      " [1, 2, 3, 4, 5, 6, 7, 8, 9, 10, 11, 12, 13, 14, 15, 16, 17, 18, 19, 20, 21, 22, 23, 24, 25, 26, 27, 28]\n",
      "3월 \n",
      "일월화수목금토 \n",
      " [1, 2, 3, 4, 5, 6, 7, 8, 9, 10, 11, 12, 13, 14, 15, 16, 17, 18, 19, 20, 21, 22, 23, 24, 25, 26, 27, 28, 29, 30, 31]\n",
      "4월 \n",
      "일월화수목금토 \n",
      " [1, 2, 3, 4, 5, 6, 7, 8, 9, 10, 11, 12, 13, 14, 15, 16, 17, 18, 19, 20, 21, 22, 23, 24, 25, 26, 27, 28, 29, 30]\n",
      "5월 \n",
      "일월화수목금토 \n",
      " [1, 2, 3, 4, 5, 6, 7, 8, 9, 10, 11, 12, 13, 14, 15, 16, 17, 18, 19, 20, 21, 22, 23, 24, 25, 26, 27, 28, 29, 30, 31]\n",
      "6월 \n",
      "일월화수목금토 \n",
      " [1, 2, 3, 4, 5, 6, 7, 8, 9, 10, 11, 12, 13, 14, 15, 16, 17, 18, 19, 20, 21, 22, 23, 24, 25, 26, 27, 28, 29, 30]\n",
      "7월 \n",
      "일월화수목금토 \n",
      " [1, 2, 3, 4, 5, 6, 7, 8, 9, 10, 11, 12, 13, 14, 15, 16, 17, 18, 19, 20, 21, 22, 23, 24, 25, 26, 27, 28, 29, 30, 31]\n",
      "8월 \n",
      "일월화수목금토 \n",
      " [1, 2, 3, 4, 5, 6, 7, 8, 9, 10, 11, 12, 13, 14, 15, 16, 17, 18, 19, 20, 21, 22, 23, 24, 25, 26, 27, 28, 29, 30, 31]\n",
      "9월 \n",
      "일월화수목금토 \n",
      " [1, 2, 3, 4, 5, 6, 7, 8, 9, 10, 11, 12, 13, 14, 15, 16, 17, 18, 19, 20, 21, 22, 23, 24, 25, 26, 27, 28, 29, 30]\n",
      "10월 \n",
      "일월화수목금토 \n",
      " [1, 2, 3, 4, 5, 6, 7, 8, 9, 10, 11, 12, 13, 14, 15, 16, 17, 18, 19, 20, 21, 22, 23, 24, 25, 26, 27, 28, 29, 30, 31]\n",
      "11월 \n",
      "일월화수목금토 \n",
      " [1, 2, 3, 4, 5, 6, 7, 8, 9, 10, 11, 12, 13, 14, 15, 16, 17, 18, 19, 20, 21, 22, 23, 24, 25, 26, 27, 28, 29, 30]\n",
      "12월 \n",
      "일월화수목금토 \n",
      " [1, 2, 3, 4, 5, 6, 7, 8, 9, 10, 11, 12, 13, 14, 15, 16, 17, 18, 19, 20, 21, 22, 23, 24, 25, 26, 27, 28, 29, 30, 31]\n"
     ]
    }
   ],
   "source": [
    "# 정답\n",
    "\n",
    "days_odd = list(range(1,32))\n",
    "days_even = list(range(1,31))\n",
    "days_Feb = list(range(1,29))\n",
    "\n",
    "for month in range(1,8):\n",
    "    if month % 2:\n",
    "        print(f'{month}월 \\n일월화수목금토 \\n {days_odd}')\n",
    "    \n",
    "    elif month ==2:\n",
    "        print(f'{month}월 \\n일월화수목금토 \\n {days_Feb}')\n",
    "            \n",
    "    else:\n",
    "        print(f'{month}월 \\n일월화수목금토 \\n {days_even}')\n",
    "        \n",
    "for month_2 in range(8,13):\n",
    "    if month_2 % 2:\n",
    "        print(f'{month_2}월 \\n일월화수목금토 \\n {days_even}')\n",
    "    else:\n",
    "        print(f'{month_2}월 \\n일월화수목금토 \\n {days_odd}')\n",
    "        "
   ]
  },
  {
   "cell_type": "markdown",
   "metadata": {},
   "source": [
    "**문제 1**\n",
    "- 두 개의 정수 n과 m이 주어집니다. 반복문을 사용하지 않고 별(*) 문자를 이용해 가로의 길이가 n, 세로의 길이가 m인 직사각형 형태를 출력해보세요."
   ]
  },
  {
   "cell_type": "code",
   "execution_count": 11,
   "metadata": {},
   "outputs": [],
   "source": [
    "# 문제\n",
    "n = 5\n",
    "m = 9"
   ]
  },
  {
   "cell_type": "code",
   "execution_count": 23,
   "metadata": {},
   "outputs": [
    {
     "name": "stdout",
     "output_type": "stream",
     "text": [
      "*****\n",
      "*****\n",
      "*****\n",
      "*****\n",
      "*****\n",
      "*****\n",
      "*****\n",
      "*****\n",
      "*****\n",
      "\n"
     ]
    }
   ],
   "source": [
    "# 정답\n",
    "print((\"*\" * n + \"\\n\") * m)"
   ]
  },
  {
   "cell_type": "markdown",
   "metadata": {},
   "source": [
    "**문제2**\n",
    "- 다음 딕셔너리에서 평균 점수를 출력하시오."
   ]
  },
  {
   "cell_type": "code",
   "execution_count": 25,
   "metadata": {},
   "outputs": [],
   "source": [
    "# 문제\n",
    "student = {'python': 80, 'algorithm': 99, 'django': 89, 'flask': 83}"
   ]
  },
  {
   "cell_type": "code",
   "execution_count": 26,
   "metadata": {},
   "outputs": [
    {
     "name": "stdout",
     "output_type": "stream",
     "text": [
      "87.75\n",
      "87.75\n"
     ]
    }
   ],
   "source": [
    "# 정답\n",
    "total = 0\n",
    "for val  in student.values():\n",
    "    total += val\n",
    "    average = total/4\n",
    "print(average)\n",
    "\n",
    "#쌤 정답\n",
    "#sum을  ssequence처럼 사용할 수 있음\n",
    "#student 갯수\n",
    "average = sum(student.values()) / len(student)\n",
    "print(average)"
   ]
  },
  {
   "cell_type": "markdown",
   "metadata": {},
   "source": [
    "**문제3**\n",
    "- 다음은 학생들의 혈액형(A, B, AB, O)에 대한 데이터이다. for문을 이용하여 각 혈액형 별 학생수의 합계를 구하시오."
   ]
  },
  {
   "cell_type": "code",
   "execution_count": 1,
   "metadata": {},
   "outputs": [],
   "source": [
    "# 문제\n",
    "blood_types = ['A', 'B', 'A', 'O', 'AB', 'AB', 'O', 'A', 'B', 'O', 'B', 'AB']"
   ]
  },
  {
   "cell_type": "code",
   "execution_count": 3,
   "metadata": {},
   "outputs": [
    {
     "name": "stdout",
     "output_type": "stream",
     "text": [
      "A =3, B =3, O =3, AB =3\n"
     ]
    }
   ],
   "source": [
    "# 정답\n",
    "type_A, type_B, type_O, type_AB = 0,0,0,0\n",
    "\n",
    "for blool_t in blood_types:\n",
    "    if blool_t == \"A\":\n",
    "        type_A += 1\n",
    "    elif blool_t == \"B\":\n",
    "        type_B += 1\n",
    "    elif blool_t == \"O\":\n",
    "        type_O+= 1\n",
    "    else:\n",
    "        type_AB += 1\n",
    "\n",
    "\n",
    "print(f'A ={type_A}, B ={type_B}, O ={type_O}, AB ={type_AB}')\n",
    "    \n",
    "    \n",
    "    "
   ]
  },
  {
   "cell_type": "code",
   "execution_count": null,
   "metadata": {},
   "outputs": [],
   "source": [
    "#4\n",
    "\n",
    "result = {}\n",
    "for blood_type in blood_types:\n",
    "    if blood_type in result:\n",
    "        result[blood_type] += 1\n",
    "    else:\n",
    "        # 없으면 숫자를 유지해야\n",
    "        result[blood_type] = 1\n",
    "print(result)\n",
    "        #  key 값으로  value를 카운트하는거"
   ]
  },
  {
   "cell_type": "code",
   "execution_count": 20,
   "metadata": {},
   "outputs": [
    {
     "name": "stdout",
     "output_type": "stream",
     "text": [
      "1 월\n",
      "일 월 화 수 목 금 토 \n",
      "1234567\n",
      "891011121314\n",
      "15161718192021\n",
      "22232425262728\n",
      "293031\n",
      "\n",
      "2 월\n",
      "일 월 화 수 목 금 토 \n",
      "1234567\n",
      "891011121314\n",
      "15161718192021\n",
      "22232425262728\n",
      "\n",
      "\n",
      "3 월\n",
      "일 월 화 수 목 금 토 \n",
      "1234567\n",
      "891011121314\n",
      "15161718192021\n",
      "22232425262728\n",
      "293031\n",
      "\n",
      "4 월\n",
      "일 월 화 수 목 금 토 \n",
      "1234567\n",
      "891011121314\n",
      "15161718192021\n",
      "22232425262728\n",
      "2930\n",
      "\n",
      "5 월\n",
      "일 월 화 수 목 금 토 \n",
      "1234567\n",
      "891011121314\n",
      "15161718192021\n",
      "22232425262728\n",
      "293031\n",
      "\n",
      "6 월\n",
      "일 월 화 수 목 금 토 \n",
      "1234567\n",
      "891011121314\n",
      "15161718192021\n",
      "22232425262728\n",
      "2930\n",
      "\n",
      "7 월\n",
      "일 월 화 수 목 금 토 \n",
      "1234567\n",
      "891011121314\n",
      "15161718192021\n",
      "22232425262728\n",
      "293031\n",
      "\n",
      "8 월\n",
      "일 월 화 수 목 금 토 \n",
      "1234567\n",
      "891011121314\n",
      "15161718192021\n",
      "22232425262728\n",
      "293031\n",
      "\n",
      "9 월\n",
      "일 월 화 수 목 금 토 \n",
      "1234567\n",
      "891011121314\n",
      "15161718192021\n",
      "22232425262728\n",
      "2930\n",
      "\n",
      "10 월\n",
      "일 월 화 수 목 금 토 \n",
      "1234567\n",
      "891011121314\n",
      "15161718192021\n",
      "22232425262728\n",
      "293031\n",
      "\n",
      "11 월\n",
      "일 월 화 수 목 금 토 \n",
      "1234567\n",
      "891011121314\n",
      "15161718192021\n",
      "22232425262728\n",
      "2930\n",
      "\n",
      "12 월\n",
      "일 월 화 수 목 금 토 \n",
      "1234567\n",
      "891011121314\n",
      "15161718192021\n",
      "22232425262728\n",
      "293031\n",
      "\n"
     ]
    }
   ],
   "source": [
    "calender = {\n",
    "            1:31, 2:28, 3:31, 4:30, 5:31, 6:30, \n",
    "            7:31, 8:31, 9:30, 10:31, 11:30, 12:31\n",
    "}\n",
    "\n",
    "weeks = ['일', '월', '화', '수', '목', '금', '토']\n",
    "\n",
    "# 두개 불러오려면 .items\n",
    "for month, count_day in calender.items():\n",
    "    count = 0\n",
    "    print(month, '월')\n",
    "    for day in weeks:\n",
    "        print(day, end=\" \")\n",
    "    print()\n",
    "    \n",
    "    #여기까지가 월/ 일월화수목금토 까지 \n",
    "    for i in range(1, count_day + 1):\n",
    "        print(i, end='')\n",
    "        #띄어쓰기 이쁘게 하려고 end를 쓴 거임\n",
    "        count += 1 \n",
    "        if count == 7:\n",
    "            print()\n",
    "            # 7이 되서 개행되면 그냥 프린트해라\n",
    "            count = 0\n",
    "    print(end='\\n\\n')"
   ]
  },
  {
   "cell_type": "code",
   "execution_count": 27,
   "metadata": {},
   "outputs": [
    {
     "name": "stdout",
     "output_type": "stream",
     "text": [
      "{'A': 3, 'B': 3, 'O': 3, 'AB': 3}\n"
     ]
    }
   ],
   "source": [
    "#4\n",
    "\n",
    "result = {}\n",
    "for blood_type in blood_types:\n",
    "    if blood_type in result:\n",
    "        result[blood_type] += 1\n",
    "    else:\n",
    "        # 없으면 숫자를 유지해야지\n",
    "        result[blood_type] = 1\n",
    "print(result)\n",
    "        "
   ]
  },
  {
   "cell_type": "code",
   "execution_count": null,
   "metadata": {},
   "outputs": [],
   "source": []
  }
 ],
 "metadata": {
  "kernelspec": {
   "display_name": "Python 3",
   "language": "python",
   "name": "python3"
  },
  "language_info": {
   "codemirror_mode": {
    "name": "ipython",
    "version": 3
   },
   "file_extension": ".py",
   "mimetype": "text/x-python",
   "name": "python",
   "nbconvert_exporter": "python",
   "pygments_lexer": "ipython3",
   "version": "3.6.7"
  },
  "toc": {
   "base_numbering": 1,
   "nav_menu": {},
   "number_sections": true,
   "sideBar": true,
   "skip_h1_title": false,
   "title_cell": "Table of Contents",
   "title_sidebar": "Contents",
   "toc_cell": false,
   "toc_position": {},
   "toc_section_display": true,
   "toc_window_display": false
  }
 },
 "nbformat": 4,
 "nbformat_minor": 2
}
