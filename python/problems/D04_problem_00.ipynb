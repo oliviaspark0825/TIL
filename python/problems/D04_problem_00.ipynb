{
 "cells": [
  {
   "cell_type": "markdown",
   "metadata": {},
   "source": [
    "## 최대공약수, 최소공배수 구하기\n",
    "\n",
    "> 두 수를 입력받아 두 수의 최대공약수와 최소공배수를 반환하는 함수, gcdlcm을 완성해 보세요.\n",
    ">\n",
    "> 배열의 맨 앞에 최대공약수, 그다음 최소공배수를 넣어 반환하면 됩니다. \n",
    ">\n",
    "> 예를 들어 두 수 3, 12의 최대공약수는 3, 최소공배수는 12이므로 `gcdlcm(3, 12)`는 `[3, 12]`를 반환해야 합니다. \n",
    "\n",
    "예시)\n",
    "\n",
    "```python\n",
    "gcdlcm(3, 12) #=> [3, 12]\n",
    "gcdlcm(1071, 1029) #=> [21, 52479]\n",
    "```"
   ]
  },
  {
   "cell_type": "code",
   "execution_count": 45,
   "metadata": {},
   "outputs": [],
   "source": [
    "#여기에 코드를 작성하세요.\n",
    "\n",
    "# def gcdlcm(a,b):\n",
    "\n",
    "#     empty = []\n",
    "#     gcd = []\n",
    "#     lcm = []\n",
    "#     while a>b:\n",
    "#         empty = a % b\n",
    "#         if empty !== a%b:\n",
    "#             a= b\n",
    "#             if \n",
    "#             gcd = b\n",
    "#             lcm = a*b/gcd\n",
    "            \n",
    "#         else:\n",
    "#             a = b\n",
    "            \n",
    "#     return(gcd,lcm)\n",
    "\n",
    "#  베껴서 했는데 , 두번째  값이 이상하게 나옴\n",
    "# def gcdlcm(a,b):\n",
    "#     empty = 0\n",
    "#     if a >= b:\n",
    "#         for i in range(1,a):\n",
    "#             if a % i == 0 and b % 1 == 0:\n",
    "#                 empty = i\n",
    "#     else:\n",
    "#         for i in range(1,b):\n",
    "#             if a % i == 0 and b % 1 == 0:\n",
    "#                 empty = i\n",
    "               \n",
    "#     lcm = int(a*b/empty)\n",
    "        \n",
    "        \n",
    "#     return [empty, lcm] \n",
    "\n",
    "\n",
    "# def gcdlcm(o,p):\n",
    "#     gcd = []\n",
    "#     while o>p:\n",
    "#         if o % p == 0:\n",
    "#             gcd = p\n",
    "#             lcm = int(o*p/gcd)\n",
    "#         else:    # 나머지가 0이 아니면\n",
    "#             p = o\n",
    "#             o = p%o\n",
    "#     return [gcd, lcm]\n",
    "\n",
    "            \n",
    "# 최대공약수\n",
    "'''\n",
    "func (3,12) #어디가클지 모르니까 \n",
    "a= max(,)\n",
    "b= min(,)\n",
    " (a,b) =(a, a%b) 12,0\n",
    "    a,b = b, a%b\n",
    "    3,0\n",
    "    \n",
    "    while b>0:\n",
    "        (a,b) = (b, a%b)\n",
    "    1029, 42\n",
    "    42, 21 1029/42\n",
    "    21, 0 \n",
    "'''\n",
    "\n",
    "#  최대공약수\n",
    "def gcdlcm(n, m):\n",
    "    a,b = max(n,m), min(n,m)\n",
    "    while b > 0:\n",
    "        a,b = b, a%b\n",
    "    return [a, int(n*m/a)]\n",
    "\n",
    "\n",
    "        "
   ]
  },
  {
   "cell_type": "code",
   "execution_count": 46,
   "metadata": {},
   "outputs": [
    {
     "name": "stdout",
     "output_type": "stream",
     "text": [
      "[3, 12]\n",
      "[21, 52479]\n"
     ]
    }
   ],
   "source": [
    "print(gcdlcm(3, 12))\n",
    "print(gcdlcm(1071, 1029))"
   ]
  },
  {
   "cell_type": "markdown",
   "metadata": {},
   "source": [
    "## URL 편하게 만들기\n",
    "\n",
    "> url 패턴을 만들어 문자열을 반환하는 `my_url` 함수를 만들어봅시다.\n",
    ">\n",
    "> 영진위에서 제공하는 일별 박스오피스 API 서비스는 다음과 같은 방식으로 요청을 받습니다.\n",
    "\n",
    "```\n",
    "기본 요청 URL : http://www.kobis.or.kr/kobisopenapi/webservice/rest/boxoffice/searchDailyBoxOfficeList.json?\n",
    "```\n",
    "\n",
    "* key : 발급받은 키값(abc)\n",
    "* targetDt : yyyymmdd\n",
    "* itemPerPage : 1 ~ 10 **기본 10**\n",
    "---\n",
    "\n",
    "예시)\n",
    "```python\n",
    "api = {\n",
    "    'key': 'abc',\n",
    "    'targetDt': 'yyyymmdd'\n",
    "}\n",
    "my_url(**api)\n",
    "```\n",
    "\n",
    "예시 출력)\n",
    "```python\n",
    "'http://www.kobis.or.kr/kobisopenapi/webservice/rest/boxoffice/searchDailyBoxOfficeList.json?key=abc&targetDt=yyyymmdd&'\n",
    "```\n",
    "```python\n",
    "'http://www.kobis.or.kr/kobisopenapi/webservice/rest/boxoffice/searchDailyBoxOfficeList.json?itemPerPage=10&key=abc&targetDt=yyyymmdd&'\n",
    "```"
   ]
  },
  {
   "cell_type": "code",
   "execution_count": 45,
   "metadata": {},
   "outputs": [
    {
     "data": {
      "text/plain": [
       "'http://www.kobis.or.kr/kobisopenapi/webservice/rest/boxoffice/searchDailyBoxOfficeList.json?itemPerPage=10&key=&targetDt=&'"
      ]
     },
     "execution_count": 45,
     "metadata": {},
     "output_type": "execute_result"
    }
   ],
   "source": [
    "# 여기에 코드를 작성해주세요.\n",
    "def my_url(itemPerPage=10, **args):\n",
    "   \n",
    "        base_url = 'http://www.kobis.or.kr/kobisopenapi/webservice/rest/boxoffice/searchDailyBoxOfficeList.json?'\n",
    "        base_url += f'itemPerPage={itemPerPage}&'\n",
    "        for key, value in args.items():\n",
    "                base_url += f'{key}={value}&'\n",
    "        return base_url      \n",
    "    \n",
    "api = {\n",
    "        'key': '430156241533f1d058c603178cc3ca0e',\n",
    "        'targetDt': ''\n",
    "}\n",
    "my_url(**api)\n",
    "\n",
    "#api라는 딕셔너리를 포문으로 돌려서 문자열 합치기?\n",
    "# **을 붙이면 딕셔너리 형태로  들어가고"
   ]
  },
  {
   "cell_type": "markdown",
   "metadata": {},
   "source": [
    "## URL 검증하기\n",
    "\n",
    "> 이제 우리는 만들어진 요청 보내기전에 URL을 검증해야합니다. \n",
    ">\n",
    "> 앞선 설명을 참고하여 검증 로직을 구현하고 문자열을 반환하세요.\n",
    "\n",
    "```\n",
    "> 아래의 두가지 상황만 만들도록 하겠습니다. <\n",
    "\n",
    "1. key, targetDt가 없으면, '필수 요청변수가 누락되었습니다.'\n",
    "\n",
    "2. itemPerPage의 범위가 1~10을 넘어가면, '1~10까지의 값을 넣어주세요.'\n",
    "```"
   ]
  },
  {
   "cell_type": "code",
   "execution_count": 39,
   "metadata": {},
   "outputs": [
    {
     "name": "stdout",
     "output_type": "stream",
     "text": [
      "1~10까지의 값을 넣어주세요.\n",
      "필수 요청변수가 누락되었습니다.\n"
     ]
    },
    {
     "data": {
      "text/plain": [
       "'http://www.kobis.or.kr/kobisopenapi/webservice/rest/boxoffice/searchDailyBoxOfficeList.json?itemPerPage=15&key=430156241533f1d058c603178cc3ca0e&targetDt=&'"
      ]
     },
     "execution_count": 39,
     "metadata": {},
     "output_type": "execute_result"
    }
   ],
   "source": [
    "# 여기에 코드를 작성해주세요.\n",
    "# def my_url(itemPerPage=(), **args):\n",
    "#     base_url = 'http://www.kobis.or.kr/kobisopenapi/webservice/rest/boxoffice/searchDailyBoxOfficeList.json?'\n",
    "#     base_url += f'itemPerPage={itemPerPage}&'\n",
    "#     if itemPerPage >10:\n",
    "#         print('1~10까지의 값을 넣어주세요.')\n",
    "\n",
    "#     for key, value in args.items():\n",
    "#             base_url += f'{key}={value}&'\n",
    "#             if value == '' or value == False:\n",
    "#                 print('필수 요청변수가 누락되었습니다.')\n",
    "\n",
    "\n",
    "#     return base_url\n",
    "\n",
    "# my_url(15, **api)\n",
    "\n",
    "\n",
    "\n",
    "\n",
    "    "
   ]
  },
  {
   "cell_type": "code",
   "execution_count": 49,
   "metadata": {},
   "outputs": [],
   "source": [
    "#answer\n",
    "\n",
    "def my_url(itemPerPage=10, **args):\n",
    "        if ('key' not in args or  'targetDt' not in args) and int(itemPerPage) not in range(1,11):\n",
    "            return '필수 요청변수가 누락되었으며, 1~10까지의 값을 넣어주세요.'\n",
    "        elif 'key' not in args or  'targetDt' not in args:\n",
    "            return '필수 요청변수가 누락되었습니다'\n",
    "        elif int(itemPerPage) not in range(1,11):\n",
    "            return '1~10까지의 값을 넣어주세요.'\n",
    "        else:\n",
    "                base_url = 'http://www.kobis.or.kr/kobisopenapi/webservice/rest/boxoffice/searchDailyBoxOfficeList.json?'\n",
    "                base_url += f'itemPerPage={itemPerPage}&'\n",
    "                for key, value in args.items():\n",
    "                        base_url += f'{key}={value}&'\n",
    "                return base_url      \n",
    "    \n",
    "        \n"
   ]
  },
  {
   "cell_type": "code",
   "execution_count": 43,
   "metadata": {},
   "outputs": [
    {
     "data": {
      "text/plain": [
       "'1~10까지의 값을 넣어주세요.'"
      ]
     },
     "execution_count": 43,
     "metadata": {},
     "output_type": "execute_result"
    }
   ],
   "source": [
    "my_url(15, **api)"
   ]
  },
  {
   "cell_type": "code",
   "execution_count": 52,
   "metadata": {},
   "outputs": [
    {
     "ename": "SyntaxError",
     "evalue": "invalid syntax (<ipython-input-52-092c817196da>, line 1)",
     "output_type": "error",
     "traceback": [
      "\u001b[1;36m  File \u001b[1;32m\"<ipython-input-52-092c817196da>\"\u001b[1;36m, line \u001b[1;32m1\u001b[0m\n\u001b[1;33m    my_url, **api)\u001b[0m\n\u001b[1;37m             ^\u001b[0m\n\u001b[1;31mSyntaxError\u001b[0m\u001b[1;31m:\u001b[0m invalid syntax\n"
     ]
    }
   ],
   "source": []
  },
  {
   "cell_type": "markdown",
   "metadata": {},
   "source": [
    "### 단축평가"
   ]
  },
  {
   "cell_type": "code",
   "execution_count": 54,
   "metadata": {},
   "outputs": [],
   "source": [
    "def return_test():\n",
    "        return '대전2반'\n",
    "\n",
    "def print_test():\n",
    "        print('대전 2반')\n",
    "        #return None 이면 함수를 사용할 수 없다"
   ]
  },
  {
   "cell_type": "code",
   "execution_count": 55,
   "metadata": {},
   "outputs": [
    {
     "name": "stdout",
     "output_type": "stream",
     "text": [
      "우리는 대전2반 입니다.\n"
     ]
    }
   ],
   "source": [
    "print(f'우리는 {return_test()} 입니다.')"
   ]
  },
  {
   "cell_type": "code",
   "execution_count": 58,
   "metadata": {},
   "outputs": [
    {
     "name": "stdout",
     "output_type": "stream",
     "text": [
      "대전 2반\n",
      "우리는 None 입니다.\n"
     ]
    }
   ],
   "source": [
    "print(f'우리는 {print_test()} 입니다.')"
   ]
  },
  {
   "cell_type": "code",
   "execution_count": null,
   "metadata": {},
   "outputs": [],
   "source": [
    "if 'key' not in args or 'targetDt' not in args: #조건을 합치지 말고 따로따로 나누어야 함"
   ]
  },
  {
   "cell_type": "code",
   "execution_count": null,
   "metadata": {},
   "outputs": [],
   "source": [
    "if ('key' or 'targetDt') not in args: #  "
   ]
  },
  {
   "cell_type": "code",
   "execution_count": 59,
   "metadata": {},
   "outputs": [],
   "source": [
    "vowel = 'aeiou'"
   ]
  },
  {
   "cell_type": "code",
   "execution_count": 61,
   "metadata": {},
   "outputs": [
    {
     "data": {
      "text/plain": [
       "False"
      ]
     },
     "execution_count": 61,
     "metadata": {},
     "output_type": "execute_result"
    }
   ],
   "source": [
    "('a' and 'b') in vowel"
   ]
  },
  {
   "cell_type": "code",
   "execution_count": 60,
   "metadata": {},
   "outputs": [
    {
     "data": {
      "text/plain": [
       "True"
      ]
     },
     "execution_count": 60,
     "metadata": {},
     "output_type": "execute_result"
    }
   ],
   "source": [
    "('b' and 'a') in vowel # or이면 그냥 처음 나온거가 나오고"
   ]
  },
  {
   "cell_type": "code",
   "execution_count": null,
   "metadata": {},
   "outputs": [],
   "source": []
  }
 ],
 "metadata": {
  "kernelspec": {
   "display_name": "Python 3",
   "language": "python",
   "name": "python3"
  },
  "language_info": {
   "codemirror_mode": {
    "name": "ipython",
    "version": 3
   },
   "file_extension": ".py",
   "mimetype": "text/x-python",
   "name": "python",
   "nbconvert_exporter": "python",
   "pygments_lexer": "ipython3",
   "version": "3.6.7"
  },
  "toc": {
   "base_numbering": 1,
   "nav_menu": {},
   "number_sections": true,
   "sideBar": true,
   "skip_h1_title": false,
   "title_cell": "Table of Contents",
   "title_sidebar": "Contents",
   "toc_cell": false,
   "toc_position": {},
   "toc_section_display": true,
   "toc_window_display": false
  }
 },
 "nbformat": 4,
 "nbformat_minor": 2
}
