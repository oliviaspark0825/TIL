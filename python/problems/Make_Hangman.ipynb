{
 "cells": [
  {
   "cell_type": "markdown",
   "metadata": {},
   "source": [
    "# 행맨 게임 만들기 "
   ]
  },
  {
   "cell_type": "markdown",
   "metadata": {},
   "source": [
    "## 답안 확인 하기\n",
    "\n",
    "> 행맨 게임을 위한 코드를 작성해봅시다. \n",
    ">\n",
    "> `isanswer(answer, letters)`는 정답 문자열(answer)과 추측 알파벳의 리스트(letters)를 받아서, True/False 결과를 반환합니다."
   ]
  },
  {
   "cell_type": "code",
   "execution_count": 62,
   "metadata": {},
   "outputs": [],
   "source": [
    "# 여기에 코드를 작성하세요. 나의 답\n",
    "def isanswer(answer, letters):\n",
    "    set_answer = set(answer)\n",
    "    set_letters = set(letters)\n",
    "    if set_answer == set_letters:\n",
    "        return True\n",
    "    else:\n",
    "        return False\n",
    "            \n"
   ]
  },
  {
   "cell_type": "code",
   "execution_count": null,
   "metadata": {},
   "outputs": [],
   "source": [
    "# 다른 사람 답\n",
    "def isanswer(answer, letters):\n",
    "    return set(answer) == set(letters)"
   ]
  },
  {
   "cell_type": "code",
   "execution_count": 82,
   "metadata": {},
   "outputs": [],
   "source": [
    "# 행맨에 맞춤형 답은\n",
    "def isanswer(answer, letters):\n",
    "    # 갯수가 있으면 실패 차집합했을 때 글자가 남아 있으면 = 실패 (false) / 없으면 성공(true)\n",
    "    return not (set(answer) - set(letters))\n",
    "    return set(answer) == set(letters)"
   ]
  },
  {
   "cell_type": "code",
   "execution_count": 83,
   "metadata": {
    "scrolled": true
   },
   "outputs": [
    {
     "data": {
      "text/plain": [
       "True"
      ]
     },
     "execution_count": 83,
     "metadata": {},
     "output_type": "execute_result"
    }
   ],
   "source": [
    "isanswer('apple', ['a', 'p', 'l']) #=> False\n",
    "isanswer('apple', ['a', 'p', 'l', 'e']) #=> True"
   ]
  },
  {
   "cell_type": "markdown",
   "metadata": {},
   "source": [
    "## 현재 상태 출력하기\n",
    "\n",
    "> 행맨 게임을 위한 코드를 작성해봅시다. \n",
    ">\n",
    "> `status(answer, letters)`는 정답 문자열(answer)과 추측 알파벳의 리스트(letters)를 받아서, 현재 결과를 반환합니다."
   ]
  },
  {
   "cell_type": "code",
   "execution_count": 74,
   "metadata": {},
   "outputs": [
    {
     "ename": "TypeError",
     "evalue": "list indices must be integers or slices, not str",
     "output_type": "error",
     "traceback": [
      "\u001b[1;31m---------------------------------------------------------------------------\u001b[0m",
      "\u001b[1;31mTypeError\u001b[0m                                 Traceback (most recent call last)",
      "\u001b[1;32m<ipython-input-74-2bb9df818472>\u001b[0m in \u001b[0;36m<module>\u001b[1;34m\u001b[0m\n\u001b[0;32m      7\u001b[0m             \u001b[1;32mif\u001b[0m \u001b[0mletters\u001b[0m\u001b[1;33m[\u001b[0m\u001b[0mo\u001b[0m\u001b[1;33m]\u001b[0m \u001b[1;33m==\u001b[0m \u001b[0mi\u001b[0m\u001b[1;33m:\u001b[0m\u001b[1;33m\u001b[0m\u001b[1;33m\u001b[0m\u001b[0m\n\u001b[0;32m      8\u001b[0m                 \u001b[0mprint\u001b[0m\u001b[1;33m(\u001b[0m\u001b[0mletters\u001b[0m\u001b[1;33m[\u001b[0m\u001b[0mo\u001b[0m\u001b[1;33m]\u001b[0m\u001b[1;33m)\u001b[0m\u001b[1;33m\u001b[0m\u001b[1;33m\u001b[0m\u001b[0m\n\u001b[1;32m----> 9\u001b[1;33m \u001b[0mstatus\u001b[0m\u001b[1;33m(\u001b[0m\u001b[1;34m'apple'\u001b[0m\u001b[1;33m,\u001b[0m \u001b[1;33m[\u001b[0m\u001b[1;34m'a'\u001b[0m\u001b[1;33m,\u001b[0m \u001b[1;34m'p'\u001b[0m\u001b[1;33m,\u001b[0m \u001b[1;34m'l'\u001b[0m\u001b[1;33m]\u001b[0m\u001b[1;33m)\u001b[0m\u001b[1;33m\u001b[0m\u001b[1;33m\u001b[0m\u001b[0m\n\u001b[0m",
      "\u001b[1;32m<ipython-input-74-2bb9df818472>\u001b[0m in \u001b[0;36mstatus\u001b[1;34m(answer, letters)\u001b[0m\n\u001b[0;32m      5\u001b[0m     \u001b[1;32mfor\u001b[0m \u001b[0mi\u001b[0m \u001b[1;32min\u001b[0m \u001b[0manswer\u001b[0m\u001b[1;33m:\u001b[0m\u001b[1;33m\u001b[0m\u001b[1;33m\u001b[0m\u001b[0m\n\u001b[0;32m      6\u001b[0m         \u001b[1;32mfor\u001b[0m \u001b[0mo\u001b[0m \u001b[1;32min\u001b[0m \u001b[0mletters\u001b[0m\u001b[1;33m:\u001b[0m\u001b[1;33m\u001b[0m\u001b[1;33m\u001b[0m\u001b[0m\n\u001b[1;32m----> 7\u001b[1;33m             \u001b[1;32mif\u001b[0m \u001b[0mletters\u001b[0m\u001b[1;33m[\u001b[0m\u001b[0mo\u001b[0m\u001b[1;33m]\u001b[0m \u001b[1;33m==\u001b[0m \u001b[0mi\u001b[0m\u001b[1;33m:\u001b[0m\u001b[1;33m\u001b[0m\u001b[1;33m\u001b[0m\u001b[0m\n\u001b[0m\u001b[0;32m      8\u001b[0m                 \u001b[0mprint\u001b[0m\u001b[1;33m(\u001b[0m\u001b[0mletters\u001b[0m\u001b[1;33m[\u001b[0m\u001b[0mo\u001b[0m\u001b[1;33m]\u001b[0m\u001b[1;33m)\u001b[0m\u001b[1;33m\u001b[0m\u001b[1;33m\u001b[0m\u001b[0m\n\u001b[0;32m      9\u001b[0m \u001b[0mstatus\u001b[0m\u001b[1;33m(\u001b[0m\u001b[1;34m'apple'\u001b[0m\u001b[1;33m,\u001b[0m \u001b[1;33m[\u001b[0m\u001b[1;34m'a'\u001b[0m\u001b[1;33m,\u001b[0m \u001b[1;34m'p'\u001b[0m\u001b[1;33m,\u001b[0m \u001b[1;34m'l'\u001b[0m\u001b[1;33m]\u001b[0m\u001b[1;33m)\u001b[0m\u001b[1;33m\u001b[0m\u001b[1;33m\u001b[0m\u001b[0m\n",
      "\u001b[1;31mTypeError\u001b[0m: list indices must be integers or slices, not str"
     ]
    }
   ],
   "source": [
    "# replace\n",
    "def status(answer, letters):\n",
    "    empty = []\n",
    "    # letter안에 있는 값이 answer 안에 있으면\n",
    "    list(answer) \n",
    "    for i in answer:\n",
    "        for i in letters:\n",
    "            if letters[i] == answer[i:\n",
    "                print(letters[o])\n",
    "            if \n",
    "            else:\n",
    "                empty.append(i)\n",
    "                \n",
    "status('apple', ['a', 'p', 'l'])"
   ]
  },
  {
   "cell_type": "code",
   "execution_count": 80,
   "metadata": {},
   "outputs": [],
   "source": [
    "# 상근오빠 답 \n",
    "def status(answer, letters):\n",
    "    corrects = set(answer) & set(letters) # 교집합을 만들어 놓은거 \n",
    "    return \"\".join([i  if i in corrects else \"_\" for i in answer]) # i 하나씩 뽑아오면서 쌓고, 아니면 밑줄로"
   ]
  },
  {
   "cell_type": "code",
   "execution_count": 81,
   "metadata": {},
   "outputs": [
    {
     "data": {
      "text/plain": [
       "'appl_'"
      ]
     },
     "execution_count": 81,
     "metadata": {},
     "output_type": "execute_result"
    }
   ],
   "source": [
    "status('apple', ['a', 'p', 'l']) #=> 'appl_'"
   ]
  },
  {
   "cell_type": "markdown",
   "metadata": {},
   "source": [
    "## 행맨 로직 만들기 - 자유코딩!\n",
    "\n",
    "> 위의 코드를 활용하여 `hangman(answer)`를 만들어봅시다!\n",
    ">\n",
    "> 사용자가 답을 맞출 때까지 진행하며, 8번내로 정답을 맞춰야 합니다.\n"
   ]
  },
  {
   "cell_type": "code",
   "execution_count": null,
   "metadata": {},
   "outputs": [],
   "source": [
    "def hangman(answer):\n",
    "count = 0 # 일단 숫자를 세야하니까\n",
    "end = 8\n",
    "while  "
   ]
  },
  {
   "cell_type": "code",
   "execution_count": null,
   "metadata": {},
   "outputs": [],
   "source": [
    "hangman('apple')"
   ]
  },
  {
   "cell_type": "code",
   "execution_count": null,
   "metadata": {},
   "outputs": [],
   "source": []
  },
  {
   "cell_type": "code",
   "execution_count": null,
   "metadata": {},
   "outputs": [],
   "source": []
  },
  {
   "cell_type": "code",
   "execution_count": null,
   "metadata": {},
   "outputs": [],
   "source": []
  },
  {
   "cell_type": "code",
   "execution_count": null,
   "metadata": {},
   "outputs": [],
   "source": [
    "#상근오빠 답 \n",
    "def hangman(answer):\n",
    "   count = 0 #몇번째인지 카운트하는거임\n",
    "   active = 8 #몇번까지하면 종료인지 설정하는거\n",
    "   answer = answer.lower()\n",
    "   answersheet = [] #여태까지 선택한 답안들의모음\n",
    "   alphabetlist = 'abcdefghijklmnopqrstuwxyz' #남은 선택지리스트입니다.\n",
    "   while count < active and not isanswer(answer,answersheet): # 답을 아직 못맞춰거나 제한횟수전일때까지만 while loop\n",
    "       print(\"남은리스트\", alphabetlist)       #남은 선택지리스트를 보여줌\n",
    "       selection = input(\"알파벳뭐넣을거임?\")   #유저선택을 받아옴\n",
    "       if selection not in alphabetlist:                  #이미선택했는지 검증\n",
    "           print(\"이미넣은거자나 ㅡㅡ; 한글자만 쳐넣어\")\n",
    "           continue\n",
    "       answersheet.append(selection)              #아직 선택안됐으면 앤서쉬트에 넣음\n",
    "       alphabetlist = alphabetlist.replace(selection, \"\")          #선택한알파벳제거\n",
    "       print(\"현재까지 완성된단어\", status(answer, answersheet))    #현재까지완성된단어보여줌\n",
    "       count +=1              #카운트+1\n",
    "       print(\"몇번째야\", count)\n",
    "       print(\"-----------------------\")\n",
    "   if isanswer(answer,answersheet):\n",
    "       print(status(answer,answersheet))\n",
    "       print(\"정답축하해요\")\n",
    "   else:\n",
    "       print(\"다음기회에/..\")"
   ]
  },
  {
   "cell_type": "code",
   "execution_count": null,
   "metadata": {},
   "outputs": [],
   "source": [
    "# 연주씨 답\n",
    "def hangman(answer):\n",
    "    while True:\n",
    "        letters = input('알파벳을 입력하세요 : ')\n",
    "        if len(letters) <= 8:\n",
    "            n = 8\n",
    "            while n>0:\n",
    "                for alp in answer:\n",
    "                    if alp not in letters:\n",
    "                        answer = answer.replace(alp, '_')\n",
    "                        n = n-1\n",
    "                    else:\n",
    "                        n = n-1\n",
    "            if set(answer) - set(letters) == set(): \n",
    "                print('정답입니다')\n",
    "            else:\n",
    "                print('틀렸습니다')\n",
    "            break\n",
    "        print(\"너무 깁니다\")            \n",
    "    return answer"
   ]
  },
  {
   "cell_type": "code",
   "execution_count": null,
   "metadata": {},
   "outputs": [],
   "source": [
    "def hangman(answer):\n",
    "    i = 0\n",
    "    man ='(@^_^@)ㄱ'\n",
    "    user = ['_ ' for x in range(len(answer))]\n",
    "    print(''.join(user), 'start!!')\n",
    "    while i < 8:\n",
    "        c = input()\n",
    "        if c in answer:\n",
    "            for j in range(len(answer)):\n",
    "                if answer[j] == c:\n",
    "                    user[j] = c\n",
    "            print(''.join(user), 7-i, 'turn left')\n",
    "        else:\n",
    "            for k in range(i+1):\n",
    "                print(man[k],end=\"\")\n",
    "            print('\\n',7-i, 'turn left')\n",
    "        i += 1\n",
    "        if answer == ''.join(user):\n",
    "            return 'you win!!'\n",
    "    else:\n",
    "        return '(@x_x@)ㄱ -------- Your man is dead'"
   ]
  }
 ],
 "metadata": {
  "kernelspec": {
   "display_name": "Python 3",
   "language": "python",
   "name": "python3"
  },
  "language_info": {
   "codemirror_mode": {
    "name": "ipython",
    "version": 3
   },
   "file_extension": ".py",
   "mimetype": "text/x-python",
   "name": "python",
   "nbconvert_exporter": "python",
   "pygments_lexer": "ipython3",
   "version": "3.6.7"
  },
  "latex_envs": {
   "LaTeX_envs_menu_present": true,
   "autoclose": false,
   "autocomplete": true,
   "bibliofile": "biblio.bib",
   "cite_by": "apalike",
   "current_citInitial": 1,
   "eqLabelWithNumbers": true,
   "eqNumInitial": 1,
   "hotkeys": {
    "equation": "Ctrl-E",
    "itemize": "Ctrl-I"
   },
   "labels_anchors": false,
   "latex_user_defs": false,
   "report_style_numbering": false,
   "user_envs_cfg": false
  },
  "toc": {
   "base_numbering": 1,
   "nav_menu": {},
   "number_sections": true,
   "sideBar": true,
   "skip_h1_title": false,
   "title_cell": "Table of Contents",
   "title_sidebar": "Contents",
   "toc_cell": false,
   "toc_position": {},
   "toc_section_display": true,
   "toc_window_display": false
  }
 },
 "nbformat": 4,
 "nbformat_minor": 2
}
