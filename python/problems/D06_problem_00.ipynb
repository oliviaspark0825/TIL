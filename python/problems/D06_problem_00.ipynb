{
 "cells": [
  {
   "cell_type": "markdown",
   "metadata": {},
   "source": [
    "# 소대소대\n",
    "\n",
    "> 단어의 짝수번째 알파벳은 대문자로, 홀수번째 알파벳은 소문자로 바꾼 문자열을 return 하는 함수 `up_and_low`을 작성하세요.\n",
    "\n",
    "예시)\n",
    "```python\n",
    "up_and_low('applepie') #=> aPpLePiE\n",
    "up_and_low('spaceship') #=> sPaCeShIp\n",
    "```"
   ]
  },
  {
   "cell_type": "code",
   "execution_count": 49,
   "metadata": {},
   "outputs": [],
   "source": [
    "# 여기에 코드를 작성하세요.\n",
    "#mine\n",
    "# def up_and_low(word):\n",
    "#     word = ''\n",
    "#     for i in range(len(word)):\n",
    "#         if i % 2 ==0:\n",
    "#             word.upper(i)\n",
    "#         else:\n",
    "#             word.lower(i)\n",
    "#     return word\n",
    "#? 왜 word[i] 아 워드의 그 번째를 바꾸라고 하는거니까\n",
    "\n",
    "def up_and_low(word):\n",
    "    new_one = ''\n",
    "    for i in range(len(word)):\n",
    "        if i % 2 ==0:\n",
    "            new_one += word[i].upper()\n",
    "        else:\n",
    "            new_one += word[i].lower()\n",
    "    return new_one"
   ]
  },
  {
   "cell_type": "code",
   "execution_count": 50,
   "metadata": {},
   "outputs": [
    {
     "name": "stdout",
     "output_type": "stream",
     "text": [
      "ApPlEpIe\n",
      "SpAcEsHiP\n"
     ]
    }
   ],
   "source": [
    "# 해당 코드를 통해 올바른 결과가 나오는지 확인하세요.\n",
    "print(up_and_low('applepie'))\n",
    "print(up_and_low('spaceship'))"
   ]
  },
  {
   "cell_type": "code",
   "execution_count": 51,
   "metadata": {},
   "outputs": [],
   "source": [
    "def up_and_low(word):\n",
    "    new_str = ''\n",
    "    for idx, w in enumerate(word): # 홀짝 위치 보려고 \n",
    "        if idx % 2:\n",
    "            new_str += w.upper() # 짝수는 대문자\n",
    "        else:\n",
    "             new_str += w.lower()\n",
    "    return new_str\n",
    "    "
   ]
  },
  {
   "cell_type": "code",
   "execution_count": 46,
   "metadata": {},
   "outputs": [],
   "source": [
    "def up_and_low(word):\n",
    "    new_str = [ w.upper() if idx % 2 else w.lower() \n",
    "               for idx,w in enumerate(word)]"
   ]
  },
  {
   "cell_type": "code",
   "execution_count": 52,
   "metadata": {},
   "outputs": [
    {
     "name": "stdout",
     "output_type": "stream",
     "text": [
      "aPpLePiE\n",
      "sPaCeShIp\n"
     ]
    }
   ],
   "source": [
    "# 해당 코드를 통해 올바른 결과가 나오는지 확인하세요.\n",
    "print(up_and_low('applepie'))\n",
    "print(up_and_low('spaceship'))"
   ]
  },
  {
   "cell_type": "markdown",
   "metadata": {},
   "source": [
    "# 숫자 패턴\n",
    "\n",
    "> 원하는 행까지 아래의 패턴을 생성하는 함수 `pattern`를 작성하세요. 만약 인자가 0이나 음의 정수인 경우 \"\" 즉, 빈 문자열로 반환하세요. 짝수가 인수로 전달되면 패턴은 통과된 짝수보다 작은 최대 홀수까지 계속되어야 합니다.\n",
    "\n",
    "예시)\n",
    "\n",
    "```python\n",
    "pattern(9)\n",
    "\n",
    "1\n",
    "333\n",
    "55555\n",
    "7777777\n",
    "999999999\n",
    "\n",
    "pattern(6)\n",
    "\n",
    "1\n",
    "333\n",
    "55555\n",
    "```\n",
    "\n",
    "주의)\n",
    "\n",
    "- 패턴에 공백은 없습니다.\n",
    "- 함수 내부에서 `print()`를 사용하는 것이 아니라, 하나의 문자열을 `return`하여서 출력하여야 합니다."
   ]
  },
  {
   "cell_type": "code",
   "execution_count": 29,
   "metadata": {},
   "outputs": [
    {
     "ename": "SyntaxError",
     "evalue": "invalid syntax (<ipython-input-29-a0d3ad988cdd>, line 7)",
     "output_type": "error",
     "traceback": [
      "\u001b[1;36m  File \u001b[1;32m\"<ipython-input-29-a0d3ad988cdd>\"\u001b[1;36m, line \u001b[1;32m7\u001b[0m\n\u001b[1;33m    empty += (f{i*i})\u001b[0m\n\u001b[1;37m               ^\u001b[0m\n\u001b[1;31mSyntaxError\u001b[0m\u001b[1;31m:\u001b[0m invalid syntax\n"
     ]
    }
   ],
   "source": [
    "# 여기에 코드를 작성하세요.\n",
    "def pattern(n):\n",
    "    empty = []\n",
    "    if n>0:\n",
    "        for i in range(n+1):\n",
    "            if n % 2  != 0:\n",
    "                empty += (f{i*i})\n",
    "            else:\n",
    "                empty.append(i+1)\n",
    "        return empty\n",
    "    else:\n",
    "        return ''\n",
    "        "
   ]
  },
  {
   "cell_type": "code",
   "execution_count": 57,
   "metadata": {},
   "outputs": [],
   "source": [
    "# 어려움\n",
    "def pattern(n):\n",
    "    string = ''\n",
    "    a = n\n",
    "    if a % 2 == 0:\n",
    "        a -= 1 # 범위 조절을 위해 짝수일경우 수를 하나 줄여서 홀수로 만들어주고 시작\n",
    "    for x in range(1, a+1):  #a가 6이면 6까지 포함해야하니까\n",
    "        if x % 2 != 0: # 홀수번째 행이면\n",
    "            string += str(x) * x #1이면 한번 들어가니까\n",
    "            if x != a:\n",
    "                string += '\\n' \n",
    "    return string\n",
    "                "
   ]
  },
  {
   "cell_type": "code",
   "execution_count": 58,
   "metadata": {},
   "outputs": [],
   "source": [
    "def pattern(n):\n",
    "    ans = []\n",
    "    for i in range(1, n+1):\n",
    "        if (i+1) % 2 == 0:\n",
    "            ans.append(f'{i}'*i)\n",
    "    ans = '\\n'.join(ans) \n",
    "    return ans\n",
    "            "
   ]
  },
  {
   "cell_type": "code",
   "execution_count": 61,
   "metadata": {},
   "outputs": [],
   "source": [
    "# list로 1\n",
    "def pattern(n):\n",
    "    r = [str(x)*x for x in range(1, n+1) if x%2 ]# 홀수만 들어가게 되니까 나머지가 0이면 false, 1이면 true\n",
    "#     return ''.join(r) # 이렇게하면 안넘어가니까\n",
    "    return '\\n'.join(r)\n",
    "\n"
   ]
  },
  {
   "cell_type": "code",
   "execution_count": 64,
   "metadata": {},
   "outputs": [],
   "source": [
    "   def pattern(n):\n",
    "    r = [str(x)*x for x in range(1, n+1, 2)  ]# 두번씩 넘어가게\n",
    "\n",
    "    return '\\n'.join(r)"
   ]
  },
  {
   "cell_type": "code",
   "execution_count": 62,
   "metadata": {},
   "outputs": [
    {
     "name": "stdout",
     "output_type": "stream",
     "text": [
      "1\n",
      "333\n",
      "55555\n",
      "7777777\n",
      "999999999\n",
      "1\n",
      "333\n",
      "55555\n"
     ]
    }
   ],
   "source": [
    "# 해당 코드를 통해 올바른 결과가 나오는지 확인하세요.\n",
    "print(pattern(9))\n",
    "print(pattern(6))"
   ]
  },
  {
   "cell_type": "markdown",
   "metadata": {},
   "source": [
    "# 무엇이 중복일까\n",
    "\n",
    "> 중복된 요소만 뽑아서 출력하는 `duplicated` 함수를 작성하시오.\n",
    "\n",
    "예시)\n",
    "\n",
    "```python\n",
    "duplicated(['a', 'b', 'c', 'b', 'd', 'm', 'n', 'n', 'b']) #=> ['b', 'n']\n",
    "```"
   ]
  },
  {
   "cell_type": "code",
   "execution_count": 38,
   "metadata": {},
   "outputs": [],
   "source": [
    "# 여기에 코드를 작성하세요.\n",
    "def duplicated(some_list):\n",
    "    duple = []\n",
    "    for i in some_list:\n",
    "        if some_list[i] == some_list[i+1]:\n",
    "            duple += some_list[i]\n",
    "        else:\n",
    "            pass\n",
    "    return duple\n",
    "            "
   ]
  },
  {
   "cell_type": "code",
   "execution_count": 66,
   "metadata": {},
   "outputs": [],
   "source": [
    "#answer 1\n",
    "def duplicated(some_list):\n",
    "    duplicates = []\n",
    "    for value in some_list:\n",
    "        if some_list.count(value)> 1: # 갯수를 셌을 때 1을 넘어가면 중복이라는 뜻이니까\n",
    "            if value not in duplicates: # 안에 있는지 없는지 확인\n",
    "                duplicates.append(value)\n",
    "    return duplicates"
   ]
  },
  {
   "cell_type": "code",
   "execution_count": 68,
   "metadata": {},
   "outputs": [],
   "source": [
    "def duplicated(some_list):\n",
    "    result = []\n",
    "    while some_list:\n",
    "        dup = some_list.pop()\n",
    "        if dup in some_list and dup not in result:\n",
    "            result.append(dup)\n",
    "    return result"
   ]
  },
  {
   "cell_type": "code",
   "execution_count": 72,
   "metadata": {},
   "outputs": [],
   "source": [
    "# 여기에 코드를 작성하세요.\n",
    "def duplicated(some_list):\n",
    "    no_duplicate = list(set(some_list)) # set를 list로 바꿀때\n",
    "    for i in no_duplicate:\n",
    "        some_list.remove(i)\n",
    "    return list(set(some_list))"
   ]
  },
  {
   "cell_type": "code",
   "execution_count": 74,
   "metadata": {},
   "outputs": [],
   "source": [
    "# list\n",
    "def duplicated(some_list):\n",
    "    return  list({c for c in some_list if some_list.count(c)>1}) # 세트를 리스트로 형변환해요\n",
    "    return [{c for c in some_list if some_list.count(c)>1}] # 리스트 안에 세트를 담아서 나오는 것"
   ]
  },
  {
   "cell_type": "code",
   "execution_count": 73,
   "metadata": {},
   "outputs": [
    {
     "name": "stdout",
     "output_type": "stream",
     "text": [
      "['n', 'b']\n"
     ]
    }
   ],
   "source": [
    "# 해당 코드를 통해 올바른 결과가 나오는지 확인하세요.\n",
    "print(duplicated(['a', 'b', 'c', 'b', 'd', 'm', 'n', 'n', 'b']))"
   ]
  }
 ],
 "metadata": {
  "kernelspec": {
   "display_name": "Python 3",
   "language": "python",
   "name": "python3"
  },
  "language_info": {
   "codemirror_mode": {
    "name": "ipython",
    "version": 3
   },
   "file_extension": ".py",
   "mimetype": "text/x-python",
   "name": "python",
   "nbconvert_exporter": "python",
   "pygments_lexer": "ipython3",
   "version": "3.6.7"
  },
  "toc": {
   "base_numbering": 1,
   "nav_menu": {},
   "number_sections": true,
   "sideBar": true,
   "skip_h1_title": false,
   "title_cell": "Table of Contents",
   "title_sidebar": "Contents",
   "toc_cell": false,
   "toc_position": {},
   "toc_section_display": true,
   "toc_window_display": false
  }
 },
 "nbformat": 4,
 "nbformat_minor": 2
}
