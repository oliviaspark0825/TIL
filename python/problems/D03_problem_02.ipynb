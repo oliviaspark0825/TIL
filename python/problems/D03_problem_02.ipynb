{
 "cells": [
  {
   "cell_type": "markdown",
   "metadata": {},
   "source": [
    "**문제 3.**\n",
    "\n",
    "> 1937년 Collatz란 사람에 의해 제기된 이 추측은, 주어진 수가 1이 될때까지 다음 작업을 반복하면, 모든 수를 1로 만들 수 있다는 추측입니다. 작업은 다음과 같습니다.\n",
    ">\n",
    "> 1. 입력된 수가 짝수라면 2로 나눕니다. \n",
    "> 2. 입력된 수가 홀수라면 3을 곱하고 1을 더합니다.\n",
    "> 3. 결과로 나온 수에 같은 작업을 1이 될 때까지 반복합니다.\n",
    ">\n",
    "> 예를 들어, 입력된 수가 6이라면 6→3→10→5→16→8→4→2→1 이 되어 총 8번 만에 1이 됩니다.\n",
    ">\n",
    "> 위 작업을 몇 번이나 반복해야하는지 반환하는 함수, collatz를 완성해 주세요.\n",
    ">\n",
    "> 단, 작업을 500번을 반복해도 1이 되지 않는다면 –1을 반환해 주세요.\n",
    "\n",
    "예시)\n",
    "\n",
    "```python\n",
    "collatz(6) #=> 8\n",
    "collatz(16) #=> 4\n",
    "collatz(626331) #=> -1\n",
    "```"
   ]
  },
  {
   "cell_type": "code",
   "execution_count": 6,
   "metadata": {},
   "outputs": [],
   "source": [
    "# 여기에 코드를 작성하세요.\n",
    "def collatz(number):\n",
    "    for i in range(500): \n",
    "        # 이러면 이 안에 있는 애들은 되는 애들이 되니까\n",
    "        # true _ 조건 _ false 형식\n",
    "        number = number/2 if number % 2 == 0 else number*3 + 1\n",
    "        if number == 1:\n",
    "            return i+1\n",
    "        # 0 번 부터 시작하니까 +1 하면 숫자가 나오지?, 그리고 리턴 끝나면 다시  for 문으로 돌아감\n",
    "    return -1\n",
    "#함수는 리턴반환이 하나라서, 500 안에서 돌 때 리턴이 나오면  끝이고, 500이 되어서 넘어가면 밖에 나가서  리턴 나옴"
   ]
  },
  {
   "cell_type": "code",
   "execution_count": 7,
   "metadata": {},
   "outputs": [
    {
     "name": "stdout",
     "output_type": "stream",
     "text": [
      "8\n",
      "4\n",
      "-1\n"
     ]
    }
   ],
   "source": [
    "print(collatz(6))\n",
    "print(collatz(16))\n",
    "print(collatz(626331))"
   ]
  },
  {
   "cell_type": "markdown",
   "metadata": {},
   "source": [
    "**문제 4.**\n",
    "\n",
    "> 리스트가 주어집니다. 리스트의 각 요소는 숫자 0부터 9까지로 이루어져 있습니다. \n",
    ">\n",
    "> 이때, 리스트에서 연속적으로 나타나는 숫자는 하나만 남기고 전부 제거하려고 합니다. \n",
    ">\n",
    "> 리스트에서 연속적으로 나타나는 숫자는 제거하고 남은 수들을 반환하는 lonely 함수를 작성해 주세요.\n",
    ">\n",
    "> 단, 제거된 후 남은 수들을 반환할 때는 리스트의 요소들의 순서를 유지해야 합니다.  \n",
    "\n",
    "예시)\n",
    "\n",
    "```python\n",
    "lonely([1, 1, 3, 3, 0, 1, 1]) #=> [1, 3, 0, 1]\n",
    "lonely([4,4,4,3,3]) #=> [4,3]\n",
    "```\n"
   ]
  },
  {
   "cell_type": "code",
   "execution_count": 9,
   "metadata": {},
   "outputs": [],
   "source": [
    "# # 여기에 코드를 작성하세요.\n",
    "#  def lonely(num_list):\n",
    "#         ex_num = num_list[0]\n",
    "#         gongal = [ex_num]\n",
    "#         for num in num_list:\n",
    "#             if  num != ex_num:\n",
    "\n",
    "#             gongal .append(num)\n",
    "#             ex_num = num\n",
    "\n",
    "# 여기에 코드를 작성하세요.\n",
    "def lonely(liszt):\n",
    "    ex_num = liszt[0]\n",
    "    gongal = [ex_num]\n",
    "    for num in liszt:\n",
    "        if num != ex_num:\n",
    "            gongal.append(num)\n",
    "            ex_num = num\n",
    "    return gongal\n",
    "        "
   ]
  },
  {
   "cell_type": "code",
   "execution_count": null,
   "metadata": {},
   "outputs": [],
   "source": []
  },
  {
   "cell_type": "code",
   "execution_count": 10,
   "metadata": {},
   "outputs": [
    {
     "name": "stdout",
     "output_type": "stream",
     "text": [
      "[1, 3, 0, 1]\n",
      "[4, 3]\n"
     ]
    }
   ],
   "source": [
    "print(lonely([1, 1, 3, 3, 0, 1, 1]))\n",
    "print(lonely([4,4,4,3,3]))"
   ]
  },
  {
   "cell_type": "code",
   "execution_count": null,
   "metadata": {},
   "outputs": [],
   "source": [
    "## 문제 5.\n",
    "영어 이름 가운데 이름을 가지는 경우가 있는데\n",
    "가운데 이름을 대문자 한글자로 축약해서 나타내는 함수 'shorten' 함수를 작성해보세요.\n",
    "\n",
    "shorten('Alice betty catherine David') #=> 'Alice B.C.David'"
   ]
  },
  {
   "cell_type": "code",
   "execution_count": 33,
   "metadata": {},
   "outputs": [],
   "source": [
    "# # 여기에 코드를 작성하세요.\n",
    "# def shorten(names):\n",
    "#     names = names.split()\n",
    "#     for name in range(1,(len(names)-1)):\n",
    "#         name = name.upper()\n",
    "#         name = name.select(name[0])\n",
    "#         names.join()\n",
    "#     for name in names:\n",
    "#         if name != name[0] and name[-1]:\n",
    "#             name = select\n",
    "#     return(names)\n",
    "\n",
    "            "
   ]
  },
  {
   "cell_type": "code",
   "execution_count": null,
   "metadata": {},
   "outputs": [],
   "source": []
  },
  {
   "cell_type": "code",
   "execution_count": 37,
   "metadata": {},
   "outputs": [
    {
     "name": "stdout",
     "output_type": "stream",
     "text": [
      "['Alice', 'betty', 'catherine', 'David']\n"
     ]
    }
   ],
   "source": [
    "# def shorten(name):\n",
    "#         names = name.split()\n",
    "#         print(names)\n",
    "        \n",
    "# shorten('Alice betty catherine David')# "
   ]
  },
  {
   "cell_type": "code",
   "execution_count": 42,
   "metadata": {},
   "outputs": [
    {
     "data": {
      "text/plain": [
       "'Alice  B.  C.  David'"
      ]
     },
     "execution_count": 42,
     "metadata": {},
     "output_type": "execute_result"
    }
   ],
   "source": [
    "def shorten(name):\n",
    "        names = name.split()\n",
    "        for i in range(1, len(names)-1):\n",
    "#             print(names[i])\n",
    "                names[i] = names[i][0].upper() + '.'\n",
    "        return '  ' .join(names)\n",
    "            # '' 사이에 공백을 넣으면 띄어져서 합쳐져서 출력\n",
    "            \n",
    "shorten('Alice betty catherine David')"
   ]
  },
  {
   "cell_type": "code",
   "execution_count": null,
   "metadata": {},
   "outputs": [],
   "source": []
  }
 ],
 "metadata": {
  "kernelspec": {
   "display_name": "Python 3",
   "language": "python",
   "name": "python3"
  },
  "language_info": {
   "codemirror_mode": {
    "name": "ipython",
    "version": 3
   },
   "file_extension": ".py",
   "mimetype": "text/x-python",
   "name": "python",
   "nbconvert_exporter": "python",
   "pygments_lexer": "ipython3",
   "version": "3.6.7"
  },
  "toc": {
   "base_numbering": 1,
   "nav_menu": {},
   "number_sections": true,
   "sideBar": true,
   "skip_h1_title": false,
   "title_cell": "Table of Contents",
   "title_sidebar": "Contents",
   "toc_cell": false,
   "toc_position": {},
   "toc_section_display": true,
   "toc_window_display": false
  }
 },
 "nbformat": 4,
 "nbformat_minor": 2
}
